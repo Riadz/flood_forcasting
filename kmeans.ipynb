{
 "cells": [
  {
   "cell_type": "code",
   "execution_count": 1,
   "metadata": {},
   "outputs": [
    {
     "data": {
      "text/plain": [
       "(357, 35)"
      ]
     },
     "execution_count": 1,
     "metadata": {},
     "output_type": "execute_result"
    }
   ],
   "source": [
    "import torch\n",
    "from kmeans_pytorch import kmeans\n",
    "import pandas as pd\n",
    "import numpy as np\n",
    "import matplotlib.pyplot as plt\n",
    "from utils import toTorchTensers, NormalizeData\n",
    "\n",
    "base_url = r'.'\n",
    "\n",
    "data_url = rf'{base_url}/data/dermatology.data'\n",
    "DATA = np.genfromtxt(data_url, delimiter=',')\n",
    "DATA.shape\n"
   ]
  },
  {
   "cell_type": "code",
   "execution_count": 2,
   "metadata": {},
   "outputs": [
    {
     "name": "stdout",
     "output_type": "stream",
     "text": [
      "torch.Size([357, 34])\n",
      "running k-means on cpu..\n"
     ]
    },
    {
     "name": "stderr",
     "output_type": "stream",
     "text": [
      "[running kmeans]: 7it [00:00, 241.38it/s, center_shift=0.000000, iteration=7, tol=0.000100]\n"
     ]
    }
   ],
   "source": [
    "[X] = toTorchTensers(DATA[:, :-1])\n",
    "print(X.shape)\n",
    "\n",
    "cluster_x, cluster_centers = kmeans(\n",
    "    X=X, num_clusters=3, distance='euclidean'\n",
    ")\n",
    "\n",
    "cluster_x = cluster_x.numpy()"
   ]
  },
  {
   "cell_type": "code",
   "execution_count": 3,
   "metadata": {},
   "outputs": [],
   "source": [
    "# plot\n",
    "# %matplotlib qt\n",
    "# fig = plt.figure()\n",
    "# ax = fig.add_subplot(111, projection='3d')\n",
    "# ax.set_xlabel('PC-1')\n",
    "# ax.set_ylabel('PC-2')\n",
    "# ax.set_zlabel('PC-3')\n",
    "\n",
    "# ax.scatter(\n",
    "#     DATA[:, 0], DATA[:, 1], DATA[:, 2],\n",
    "#     s=15, c=cluster_x, marker='o'\n",
    "# )\n",
    "# plt.show()"
   ]
  },
  {
   "cell_type": "code",
   "execution_count": 4,
   "metadata": {},
   "outputs": [
    {
     "name": "stdout",
     "output_type": "stream",
     "text": [
      "(357, 36)\n"
     ]
    }
   ],
   "source": [
    "DATA = np.insert(DATA, -1, cluster_x, axis=1)\n",
    "print(DATA.shape)\n",
    "\n",
    "from datetime import datetime\n",
    "current_datetime = datetime.now().strftime(\"%d-%m_%H-%M-%S\")\n",
    "path = rf'{base_url}/data/clusters_derm_{current_datetime}.csv'\n",
    "np.savetxt(path, DATA, delimiter=\",\", fmt='%i')\n"
   ]
  }
 ],
 "metadata": {
  "interpreter": {
   "hash": "72c063d6035d88959ce5488d2496817d169a349dc57db45346e17e4ac662e96d"
  },
  "kernelspec": {
   "display_name": "Python 3.9.7 ('venv': venv)",
   "language": "python",
   "name": "python3"
  },
  "language_info": {
   "codemirror_mode": {
    "name": "ipython",
    "version": 3
   },
   "file_extension": ".py",
   "mimetype": "text/x-python",
   "name": "python",
   "nbconvert_exporter": "python",
   "pygments_lexer": "ipython3",
   "version": "3.9.7"
  },
  "orig_nbformat": 4
 },
 "nbformat": 4,
 "nbformat_minor": 2
}
