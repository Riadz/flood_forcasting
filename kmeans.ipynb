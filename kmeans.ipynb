{
 "cells": [
  {
   "cell_type": "code",
   "execution_count": 3,
   "metadata": {},
   "outputs": [],
   "source": [
    "import torch\n",
    "from kmeans_pytorch import kmeans\n",
    "import pandas as pd\n",
    "import numpy as np\n",
    "import matplotlib.pyplot as plt"
   ]
  },
  {
   "cell_type": "code",
   "execution_count": 4,
   "metadata": {},
   "outputs": [
    {
     "name": "stdout",
     "output_type": "stream",
     "text": [
      "running k-means on cpu..\n"
     ]
    },
    {
     "name": "stderr",
     "output_type": "stream",
     "text": [
      "[running kmeans]: 8it [00:00, 571.20it/s, center_shift=0.000000, iteration=8, tol=0.000100]   \n"
     ]
    }
   ],
   "source": [
    "# clustering\n",
    "DATA = np.genfromtxt(r'./tsne/tsne_egypt_flood_1.csv', delimiter=',')\n",
    "X = torch.tensor(DATA)\n",
    "\n",
    "cluster_ids_x, cluster_centers = kmeans(\n",
    "    X=X, num_clusters=4, distance='euclidean'\n",
    ")"
   ]
  },
  {
   "cell_type": "code",
   "execution_count": 5,
   "metadata": {},
   "outputs": [],
   "source": [
    "# plot\n",
    "%matplotlib qt\n",
    "fig = plt.figure()\n",
    "ax = fig.add_subplot(111, projection='3d')\n",
    "ax.set_xlabel('PC-1')\n",
    "ax.set_ylabel('PC-2')\n",
    "ax.set_zlabel('PC-3')\n",
    "\n",
    "ax.scatter(\n",
    "    DATA[:, 0], DATA[:, 1], DATA[:, 2],\n",
    "    s=15, c=cluster_ids_x, marker='o'\n",
    ")\n",
    "plt.show()"
   ]
  },
  {
   "cell_type": "code",
   "execution_count": 6,
   "metadata": {},
   "outputs": [],
   "source": [
    "np.savetxt(\"./data/clusters.csv\", cluster_ids_x, delimiter=\",\")"
   ]
  }
 ],
 "metadata": {
  "interpreter": {
   "hash": "72c063d6035d88959ce5488d2496817d169a349dc57db45346e17e4ac662e96d"
  },
  "kernelspec": {
   "display_name": "Python 3.9.7 ('venv': venv)",
   "language": "python",
   "name": "python3"
  },
  "language_info": {
   "codemirror_mode": {
    "name": "ipython",
    "version": 3
   },
   "file_extension": ".py",
   "mimetype": "text/x-python",
   "name": "python",
   "nbconvert_exporter": "python",
   "pygments_lexer": "ipython3",
   "version": "3.9.7"
  },
  "orig_nbformat": 4
 },
 "nbformat": 4,
 "nbformat_minor": 2
}
