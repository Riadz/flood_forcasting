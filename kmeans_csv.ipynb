{
 "cells": [
  {
   "cell_type": "code",
   "execution_count": 1,
   "metadata": {},
   "outputs": [],
   "source": [
    "import torch\n",
    "import math\n",
    "from kmeans_pytorch import kmeans\n",
    "import pandas as pd\n",
    "import numpy as np\n",
    "import matplotlib.pyplot as plt\n",
    "from utils import toTorchTensers, NormalizeData\n"
   ]
  },
  {
   "cell_type": "code",
   "execution_count": 10,
   "metadata": {},
   "outputs": [
    {
     "data": {
      "text/plain": [
       "torch.Size([268, 8])"
      ]
     },
     "execution_count": 10,
     "metadata": {},
     "output_type": "execute_result"
    }
   ],
   "source": [
    "# data\n",
    "DATA = np.genfromtxt(\n",
    "    r'./data/other_diabetes.csv', delimiter=','\n",
    ")\n",
    "\n",
    "DATA = DATA[DATA[:, -1] == 1]\n",
    "\n",
    "[X] = toTorchTensers(DATA[:, :-1])\n",
    "X.shape"
   ]
  },
  {
   "cell_type": "code",
   "execution_count": 5,
   "metadata": {},
   "outputs": [
    {
     "name": "stdout",
     "output_type": "stream",
     "text": [
      "running k-means on cpu..\n"
     ]
    },
    {
     "name": "stderr",
     "output_type": "stream",
     "text": [
      "[running kmeans]: 9it [00:00, 449.95it/s, center_shift=0.000000, iteration=9, tol=0.000100]  "
     ]
    },
    {
     "name": "stdout",
     "output_type": "stream",
     "text": [
      "209 291\n"
     ]
    },
    {
     "name": "stderr",
     "output_type": "stream",
     "text": [
      "\n"
     ]
    }
   ],
   "source": [
    "cluster_x, cluster_centers = kmeans(\n",
    "    X=X, num_clusters=2, distance='cosine'\n",
    ")\n",
    "\n",
    "cluster_x = cluster_x.numpy()\n",
    "print((cluster_x == 0).sum(), (cluster_x == 1).sum())\n",
    "\n",
    "# cluster_x += 1\n",
    "cluster_x += 2"
   ]
  },
  {
   "cell_type": "code",
   "execution_count": 6,
   "metadata": {},
   "outputs": [
    {
     "name": "stdout",
     "output_type": "stream",
     "text": [
      "(500, 9) [[  1.     85.     66.    ...   0.351  31.      3.   ]\n",
      " [  1.     89.     66.    ...   0.167  21.      2.   ]\n",
      " [  5.    116.     74.    ...   0.201  30.      3.   ]\n",
      " ...\n",
      " [  2.    122.     70.    ...   0.34   27.      3.   ]\n",
      " [  5.    121.     72.    ...   0.245  30.      2.   ]\n",
      " [  1.     93.     70.    ...   0.315  23.      3.   ]]\n"
     ]
    }
   ],
   "source": [
    "NEW_DATA = np.insert(DATA[:, :-1], DATA.shape[1]-1, cluster_x, axis=1)\n",
    "print(NEW_DATA.shape, NEW_DATA)"
   ]
  },
  {
   "cell_type": "code",
   "execution_count": 7,
   "metadata": {},
   "outputs": [
    {
     "name": "stdout",
     "output_type": "stream",
     "text": [
      "saved as ./data/clusters_11-05_03-09-44.csv\n"
     ]
    }
   ],
   "source": [
    "from datetime import datetime\n",
    "current_datetime = datetime.now().strftime(\"%d-%m_%H-%M-%S\")\n",
    "path = rf'./data/clusters_{current_datetime}.csv'\n",
    "np.savetxt(path, NEW_DATA, delimiter=\",\", fmt='%f')\n",
    "\n",
    "print(\"saved as\", path)"
   ]
  }
 ],
 "metadata": {
  "interpreter": {
   "hash": "72c063d6035d88959ce5488d2496817d169a349dc57db45346e17e4ac662e96d"
  },
  "kernelspec": {
   "display_name": "Python 3.9.7 ('venv': venv)",
   "language": "python",
   "name": "python3"
  },
  "language_info": {
   "codemirror_mode": {
    "name": "ipython",
    "version": 3
   },
   "file_extension": ".py",
   "mimetype": "text/x-python",
   "name": "python",
   "nbconvert_exporter": "python",
   "pygments_lexer": "ipython3",
   "version": "3.9.7"
  },
  "orig_nbformat": 4
 },
 "nbformat": 4,
 "nbformat_minor": 2
}
