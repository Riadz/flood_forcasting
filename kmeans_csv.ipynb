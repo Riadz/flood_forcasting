{
 "cells": [
  {
   "cell_type": "code",
   "execution_count": 31,
   "metadata": {},
   "outputs": [],
   "source": [
    "import torch\n",
    "import math\n",
    "from kmeans_pytorch import kmeans\n",
    "import pandas as pd\n",
    "import numpy as np\n",
    "import matplotlib.pyplot as plt\n",
    "from utils import toTorchTensers, NormalizeData\n"
   ]
  },
  {
   "cell_type": "code",
   "execution_count": 58,
   "metadata": {},
   "outputs": [
    {
     "data": {
      "text/plain": [
       "torch.Size([762, 4])"
      ]
     },
     "execution_count": 58,
     "metadata": {},
     "output_type": "execute_result"
    }
   ],
   "source": [
    "# data\n",
    "DATA = np.genfromtxt(\n",
    "    r'./data/other_banknote_authentication.csv', delimiter=','\n",
    ")\n",
    "\n",
    "DATA = DATA[DATA[:, -1] == 0]\n",
    "\n",
    "[X] = toTorchTensers(DATA[:, :-1])\n",
    "X.shape"
   ]
  },
  {
   "cell_type": "code",
   "execution_count": 73,
   "metadata": {},
   "outputs": [
    {
     "name": "stdout",
     "output_type": "stream",
     "text": [
      "running k-means on cpu..\n"
     ]
    },
    {
     "name": "stderr",
     "output_type": "stream",
     "text": [
      "[running kmeans]: 5it [00:00, 454.51it/s, center_shift=0.000000, iteration=5, tol=0.000100]"
     ]
    },
    {
     "name": "stdout",
     "output_type": "stream",
     "text": [
      "493 269\n"
     ]
    },
    {
     "name": "stderr",
     "output_type": "stream",
     "text": [
      "\n"
     ]
    }
   ],
   "source": [
    "cluster_x, cluster_centers = kmeans(\n",
    "    X=X, num_clusters=2, distance='cosine'\n",
    ")\n",
    "\n",
    "cluster_x = cluster_x.numpy()\n",
    "print((cluster_x == 0).sum(), (cluster_x == 1).sum())\n",
    "\n",
    "cluster_x += 1\n",
    "# cluster_x += 3"
   ]
  },
  {
   "cell_type": "code",
   "execution_count": 74,
   "metadata": {},
   "outputs": [
    {
     "name": "stdout",
     "output_type": "stream",
     "text": [
      "(762, 5) [[ 3.6216   8.6661  -2.8073  -0.44699  1.     ]\n",
      " [ 4.5459   8.1674  -2.4586  -1.4621   1.     ]\n",
      " [ 3.866   -2.6383   1.9242   0.10645  2.     ]\n",
      " ...\n",
      " [ 0.01727  8.693    1.3989  -3.9668   1.     ]\n",
      " [ 3.2414   0.40971  1.4015   1.1952   2.     ]\n",
      " [ 2.2504   3.5757   0.35273  0.2836   1.     ]]\n"
     ]
    }
   ],
   "source": [
    "NEW_DATA = np.insert(DATA[:, :-1], DATA.shape[1]-1, cluster_x, axis=1)\n",
    "print(NEW_DATA.shape, NEW_DATA)"
   ]
  },
  {
   "cell_type": "code",
   "execution_count": 75,
   "metadata": {},
   "outputs": [
    {
     "name": "stdout",
     "output_type": "stream",
     "text": [
      "saved as ./data/clusters_11-05_02-21-18.csv\n"
     ]
    }
   ],
   "source": [
    "from datetime import datetime\n",
    "current_datetime = datetime.now().strftime(\"%d-%m_%H-%M-%S\")\n",
    "path = rf'./data/clusters_{current_datetime}.csv'\n",
    "np.savetxt(path, NEW_DATA, delimiter=\",\", fmt='%f')\n",
    "\n",
    "print(\"saved as\", path)"
   ]
  }
 ],
 "metadata": {
  "interpreter": {
   "hash": "72c063d6035d88959ce5488d2496817d169a349dc57db45346e17e4ac662e96d"
  },
  "kernelspec": {
   "display_name": "Python 3.9.7 ('venv': venv)",
   "language": "python",
   "name": "python3"
  },
  "language_info": {
   "codemirror_mode": {
    "name": "ipython",
    "version": 3
   },
   "file_extension": ".py",
   "mimetype": "text/x-python",
   "name": "python",
   "nbconvert_exporter": "python",
   "pygments_lexer": "ipython3",
   "version": "3.9.7"
  },
  "orig_nbformat": 4
 },
 "nbformat": 4,
 "nbformat_minor": 2
}
