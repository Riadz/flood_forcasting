{
 "cells": [
  {
   "cell_type": "code",
   "execution_count": 27,
   "metadata": {},
   "outputs": [],
   "source": [
    "from sklearn import tree\n",
    "from sklearn.model_selection import train_test_split\n",
    "from sklearn import metrics\n",
    "import math\n",
    "import pandas as pd\n",
    "import numpy as np\n",
    "\n",
    "data_url = r'./data/Data.xlsx'\n",
    "data_egypt = pd.read_excel(data_url, sheet_name='Egypt')\n",
    "data_vietnam = pd.read_excel(data_url, sheet_name='Vietnam')"
   ]
  },
  {
   "cell_type": "code",
   "execution_count": 28,
   "metadata": {},
   "outputs": [
    {
     "name": "stdout",
     "output_type": "stream",
     "text": [
      "(576, 8) (576,)\n"
     ]
    }
   ],
   "source": [
    "# DATA = data_egypt\n",
    "# DATA = DATA.to_numpy()\n",
    "DATA = np.genfromtxt(\n",
    "    r'./data/other_diabetes.csv', delimiter=','\n",
    ")\n",
    "\n",
    "train_x, test_x, train_y, test_y = train_test_split(\n",
    "  DATA[:, :-1], DATA[:, -1], test_size=0.25, random_state=1\n",
    ")\n",
    "# train_x, test_x, train_y, test_y = train_test_split(\n",
    "#   DATA[:, 1:], DATA[:, 0], test_size=0.25, random_state=1\n",
    "# )\n",
    "\n",
    "print(train_x.shape, train_y.shape)"
   ]
  },
  {
   "cell_type": "code",
   "execution_count": 29,
   "metadata": {},
   "outputs": [
    {
     "data": {
      "text/plain": [
       "DecisionTreeClassifier()"
      ]
     },
     "execution_count": 29,
     "metadata": {},
     "output_type": "execute_result"
    }
   ],
   "source": [
    "tree_classifier = tree.DecisionTreeClassifier()\n",
    "tree_classifier.fit(train_x, train_y)"
   ]
  },
  {
   "cell_type": "code",
   "execution_count": 30,
   "metadata": {},
   "outputs": [
    {
     "name": "stdout",
     "output_type": "stream",
     "text": [
      "ACC: 0.6770833333333334\n",
      "RMSE: 0.3229166666666667\n",
      "[[96 27]\n",
      " [35 34]]\n"
     ]
    }
   ],
   "source": [
    "pred_y = tree_classifier.predict(test_x)\n",
    "\n",
    "print(\"ACC:\", metrics.accuracy_score(test_y, pred_y))\n",
    "print(\"RMSE:\", metrics.mean_squared_error(test_y, pred_y))\n",
    "print(metrics.confusion_matrix(test_y, pred_y))\n"
   ]
  },
  {
   "cell_type": "code",
   "execution_count": 31,
   "metadata": {},
   "outputs": [],
   "source": [
    "# for i in range(len(pred_y)):\n",
    "#   if pred_y[i] != DATA[i, 0]:\n",
    "#     print(f\"pred: {pred_y[i]}, actual: {DATA[i, 0]}\")\n",
    "\n",
    "# from sklearn.tree import export_graphviz\n",
    "# from IPython.display import Image\n",
    "# from six import StringIO\n",
    "# import pydotplus\n",
    "\n",
    "# dot_data = StringIO()\n",
    "# export_graphviz(tree_classifier, out_file=dot_data,\n",
    "#                 filled=True, rounded=True,\n",
    "#                 special_characters=True, class_names=['0', '1'])\n",
    "# graph = pydotplus.graph_from_dot_data(dot_data.getvalue())\n",
    "# graph.write_png('diabetes.png')\n",
    "# Image(graph.create_png())\n"
   ]
  }
 ],
 "metadata": {
  "interpreter": {
   "hash": "72c063d6035d88959ce5488d2496817d169a349dc57db45346e17e4ac662e96d"
  },
  "kernelspec": {
   "display_name": "Python 3.9.7 ('venv': venv)",
   "language": "python",
   "name": "python3"
  },
  "language_info": {
   "codemirror_mode": {
    "name": "ipython",
    "version": 3
   },
   "file_extension": ".py",
   "mimetype": "text/x-python",
   "name": "python",
   "nbconvert_exporter": "python",
   "pygments_lexer": "ipython3",
   "version": "3.9.7"
  },
  "orig_nbformat": 4
 },
 "nbformat": 4,
 "nbformat_minor": 2
}
