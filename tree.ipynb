{
 "cells": [
  {
   "cell_type": "code",
   "execution_count": 2,
   "metadata": {},
   "outputs": [],
   "source": [
    "from sklearn import tree\n",
    "import math\n",
    "import pandas as pd\n",
    "import numpy as np\n",
    "\n",
    "data_url = r'./data/Data.xlsx'\n",
    "data_egypt = pd.read_excel(data_url, sheet_name='Egypt')\n",
    "data_vietnam = pd.read_excel(data_url, sheet_name='Vietnam')"
   ]
  },
  {
   "cell_type": "code",
   "execution_count": 3,
   "metadata": {},
   "outputs": [
    {
     "name": "stdout",
     "output_type": "stream",
     "text": [
      "(531, 12) (531,)\n"
     ]
    }
   ],
   "source": [
    "DATA = data_egypt\n",
    "DATA = DATA.to_numpy()\n",
    "\n",
    "np.random.seed(1)\n",
    "np.random.shuffle(DATA)\n",
    "split_point = math.floor(len(DATA) * 0.6)\n",
    "\n",
    "train_x, train_y = DATA[:split_point, 1:], DATA[:split_point, 0]\n",
    "test_x, test_y = DATA[split_point:, 1:], DATA[split_point:, 0]\n",
    "\n",
    "print(train_x.shape, train_y.shape)\n"
   ]
  },
  {
   "cell_type": "code",
   "execution_count": 4,
   "metadata": {},
   "outputs": [
    {
     "data": {
      "text/plain": [
       "DecisionTreeClassifier()"
      ]
     },
     "execution_count": 4,
     "metadata": {},
     "output_type": "execute_result"
    }
   ],
   "source": [
    "tree_classifier = tree.DecisionTreeClassifier()\n",
    "tree_classifier.fit(train_x, train_y)"
   ]
  },
  {
   "cell_type": "code",
   "execution_count": 5,
   "metadata": {},
   "outputs": [
    {
     "name": "stdout",
     "output_type": "stream",
     "text": [
      "320/355 0.9014084507042254\n"
     ]
    }
   ],
   "source": [
    "pred_y = tree_classifier.predict(test_x)\n",
    "\n",
    "accurate_count = 0\n",
    "for i in range(len(pred_y)):\n",
    "  if pred_y[i] == test_y[i]:\n",
    "    accurate_count+=1\n",
    "\n",
    "print(f'{accurate_count}/{len(pred_y)}', accurate_count/len(pred_y))\n"
   ]
  },
  {
   "cell_type": "code",
   "execution_count": 6,
   "metadata": {},
   "outputs": [
    {
     "name": "stdout",
     "output_type": "stream",
     "text": [
      "class 1: 268 class 2: 448 class 3: 437 class 4: 179\n",
      "(531, 12) (531,)\n",
      "class 1: 62 class 2: 209 class 3: 208 class 4: 52\n"
     ]
    }
   ],
   "source": [
    "# data\n",
    "C_DATA = np.genfromtxt(r'./data/Data_egypt_cluster.csv', delimiter=',')\n",
    "print(\n",
    "    f'class 1: {(C_DATA == 1).sum()}',\n",
    "    f'class 2: {(C_DATA == 2).sum()}',\n",
    "    f'class 3: {(C_DATA == 3).sum()}',\n",
    "    f'class 4: {(C_DATA == 4).sum()}',\n",
    ")\n",
    "np.random.seed(1)\n",
    "np.random.shuffle(C_DATA)\n",
    "split_point = math.floor(len(C_DATA) * 0.6)\n",
    "\n",
    "c_train_x, c_train_y = C_DATA[:split_point, 1:], C_DATA[:split_point, 0]\n",
    "c_test_x, c_test_y = C_DATA[split_point:, 1:], C_DATA[split_point:, 0]\n",
    "\n",
    "print(c_train_x.shape, c_train_y.shape)\n",
    "print(\n",
    "    f'class 1: {(c_train_y == 1).sum()}',\n",
    "    f'class 2: {(c_train_y == 2).sum()}',\n",
    "    f'class 3: {(c_train_y == 3).sum()}',\n",
    "    f'class 4: {(c_train_y == 4).sum()}',\n",
    ")\n"
   ]
  },
  {
   "cell_type": "code",
   "execution_count": 7,
   "metadata": {},
   "outputs": [
    {
     "data": {
      "text/plain": [
       "DecisionTreeClassifier()"
      ]
     },
     "execution_count": 7,
     "metadata": {},
     "output_type": "execute_result"
    }
   ],
   "source": [
    "c_tree_classifier = tree.DecisionTreeClassifier()\n",
    "c_tree_classifier.fit(c_train_x, c_train_y)\n"
   ]
  },
  {
   "cell_type": "code",
   "execution_count": 8,
   "metadata": {},
   "outputs": [
    {
     "name": "stdout",
     "output_type": "stream",
     "text": [
      "310/355 0.8732394366197183\n"
     ]
    }
   ],
   "source": [
    "c_pred_y = c_tree_classifier.predict(c_test_x)\n",
    "\n",
    "c_accurate_count = 0\n",
    "for i in range(len(c_pred_y)):\n",
    "  if c_pred_y[i] == c_test_y[i]:\n",
    "    c_accurate_count += 1\n",
    "\n",
    "print(f'{c_accurate_count}/{len(c_pred_y)}', c_accurate_count/len(c_pred_y))\n"
   ]
  }
 ],
 "metadata": {
  "interpreter": {
   "hash": "72c063d6035d88959ce5488d2496817d169a349dc57db45346e17e4ac662e96d"
  },
  "kernelspec": {
   "display_name": "Python 3.9.7 ('venv': venv)",
   "language": "python",
   "name": "python3"
  },
  "language_info": {
   "codemirror_mode": {
    "name": "ipython",
    "version": 3
   },
   "file_extension": ".py",
   "mimetype": "text/x-python",
   "name": "python",
   "nbconvert_exporter": "python",
   "pygments_lexer": "ipython3",
   "version": "3.9.7"
  },
  "orig_nbformat": 4
 },
 "nbformat": 4,
 "nbformat_minor": 2
}
