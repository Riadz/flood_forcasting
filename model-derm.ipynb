{
 "cells": [
  {
   "cell_type": "code",
   "execution_count": 11,
   "metadata": {},
   "outputs": [],
   "source": [
    "import math\n",
    "import torch\n",
    "import pandas as pd\n",
    "import numpy as np\n",
    "from utils import toTorchTensers, NormalizeData\n",
    "from Models import ForcastModelMulti\n",
    "\n"
   ]
  },
  {
   "cell_type": "code",
   "execution_count": 12,
   "metadata": {},
   "outputs": [],
   "source": [
    "# data\n",
    "DATA = np.genfromtxt(r'./data/dermatology.data', delimiter=',')\n",
    "np.random.seed(5)\n",
    "np.random.shuffle(DATA)\n",
    "split_point = math.floor(len(DATA) * 0.75)\n",
    "\n",
    "train_x, train_y = DATA[:split_point, :-1], DATA[:split_point, -1]\n",
    "test_x, test_y = DATA[split_point:, :-1], DATA[split_point:, -1]\n",
    "\n",
    "[train_x, train_y, test_x, test_y] = toTorchTensers(\n",
    "  train_x, train_y, test_x, test_y\n",
    ")"
   ]
  },
  {
   "cell_type": "code",
   "execution_count": 13,
   "metadata": {},
   "outputs": [
    {
     "name": "stdout",
     "output_type": "stream",
     "text": [
      "⚙ training ...\n",
      "epoche: 0, loss: 0.11979697, execution time: 0.2s\n",
      "epoche: 1, loss: 0.10108114, execution time: 0.2s\n",
      "epoche: 2, loss: 0.06767388, execution time: 0.2s\n",
      "epoche: 3, loss: 0.00722534, execution time: 0.2s\n",
      "epoche: 4, loss: 0.00229954, execution time: 0.2s\n",
      "epoche: 5, loss: 0.00619309, execution time: 0.3s\n",
      "epoche: 6, loss: 0.00248399, execution time: 0.2s\n",
      "epoche: 7, loss: 0.04092779, execution time: 0.3s\n",
      "epoche: 8, loss: 0.01512225, execution time: 0.3s\n",
      "epoche: 9, loss: 0.00272900, execution time: 0.2s\n",
      "epoche: 10, loss: 0.00570465, execution time: 0.3s\n",
      "epoche: 11, loss: 0.06142815, execution time: 0.2s\n",
      "epoche: 12, loss: 0.08256499, execution time: 0.2s\n",
      "epoche: 13, loss: 0.10718474, execution time: 0.2s\n",
      "epoche: 14, loss: 0.04273985, execution time: 0.3s\n",
      "epoche: 15, loss: 0.00000110, execution time: 0.2s\n",
      "epoche: 16, loss: 0.05929508, execution time: 0.2s\n",
      "epoche: 17, loss: 0.07460079, execution time: 0.2s\n",
      "epoche: 18, loss: 0.03900180, execution time: 0.2s\n",
      "epoche: 19, loss: 0.03268721, execution time: 0.2s\n",
      "epoche: 20, loss: 0.00000025, execution time: 0.2s\n",
      "epoche: 21, loss: 0.10268939, execution time: 0.2s\n",
      "epoche: 22, loss: 0.00000082, execution time: 0.2s\n",
      "epoche: 23, loss: 0.10901132, execution time: 0.3s\n",
      "epoche: 24, loss: 0.00012943, execution time: 0.2s\n",
      "epoche: 25, loss: 0.00001634, execution time: 0.2s\n",
      "epoche: 26, loss: 0.03219833, execution time: 0.2s\n",
      "epoche: 27, loss: 0.16146658, execution time: 0.2s\n",
      "epoche: 28, loss: 0.24502009, execution time: 0.2s\n",
      "epoche: 29, loss: 0.10528517, execution time: 0.2s\n",
      "epoche: 30, loss: 0.00000856, execution time: 0.2s\n",
      "epoche: 31, loss: 0.00052158, execution time: 0.2s\n",
      "epoche: 32, loss: 0.00133243, execution time: 0.2s\n",
      "epoche: 33, loss: 0.13478082, execution time: 0.2s\n",
      "epoche: 34, loss: 0.06731365, execution time: 0.2s\n",
      "epoche: 35, loss: 0.04503145, execution time: 0.2s\n",
      "epoche: 36, loss: 0.00000000, execution time: 0.2s\n",
      "epoche: 37, loss: 0.00238738, execution time: 0.2s\n",
      "epoche: 38, loss: 0.00658767, execution time: 0.2s\n",
      "epoche: 39, loss: 0.31921536, execution time: 0.2s\n",
      "epoche: 40, loss: 0.00419031, execution time: 0.2s\n",
      "epoche: 41, loss: 0.07104290, execution time: 0.2s\n",
      "epoche: 42, loss: 0.00001424, execution time: 0.2s\n",
      "epoche: 43, loss: 0.00008898, execution time: 0.2s\n",
      "epoche: 44, loss: 0.15252629, execution time: 0.2s\n",
      "epoche: 45, loss: 0.00069664, execution time: 0.2s\n",
      "epoche: 46, loss: 0.01077828, execution time: 0.2s\n",
      "epoche: 47, loss: 0.04547346, execution time: 0.2s\n",
      "epoche: 48, loss: 0.00454148, execution time: 0.2s\n",
      "epoche: 49, loss: 0.20238133, execution time: 0.2s\n",
      "epoche: 50, loss: 0.00114066, execution time: 0.2s\n",
      "epoche: 51, loss: 0.22281544, execution time: 0.2s\n",
      "epoche: 52, loss: 0.00008363, execution time: 0.2s\n",
      "epoche: 53, loss: 0.14344782, execution time: 0.2s\n",
      "epoche: 54, loss: 0.15383403, execution time: 0.2s\n",
      "epoche: 55, loss: 0.00078960, execution time: 0.2s\n",
      "epoche: 56, loss: 0.00000347, execution time: 0.2s\n",
      "epoche: 57, loss: 0.00785189, execution time: 0.2s\n",
      "epoche: 58, loss: 0.30941415, execution time: 0.2s\n",
      "epoche: 59, loss: 0.00880029, execution time: 0.2s\n",
      "epoche: 60, loss: 0.07243486, execution time: 0.2s\n",
      "epoche: 61, loss: 0.00056288, execution time: 0.2s\n",
      "epoche: 62, loss: 0.00181773, execution time: 0.2s\n",
      "epoche: 63, loss: 0.10907650, execution time: 0.2s\n",
      "epoche: 64, loss: 0.00000277, execution time: 0.2s\n",
      "epoche: 65, loss: 0.00175413, execution time: 0.2s\n",
      "epoche: 66, loss: 0.12750162, execution time: 0.2s\n",
      "epoche: 67, loss: 0.24836369, execution time: 0.2s\n",
      "epoche: 68, loss: 0.07018577, execution time: 0.2s\n",
      "epoche: 69, loss: 0.31727526, execution time: 0.2s\n",
      "epoche: 70, loss: 0.00000000, execution time: 0.2s\n",
      "epoche: 71, loss: 0.00050667, execution time: 0.2s\n",
      "epoche: 72, loss: 0.00002915, execution time: 0.2s\n",
      "epoche: 73, loss: 0.00000064, execution time: 0.2s\n",
      "epoche: 74, loss: 0.05671002, execution time: 0.2s\n",
      "epoche: 75, loss: 0.04803803, execution time: 0.2s\n",
      "epoche: 76, loss: 0.00000261, execution time: 0.2s\n",
      "epoche: 77, loss: 0.00017865, execution time: 0.2s\n",
      "epoche: 78, loss: 0.00000052, execution time: 0.2s\n",
      "epoche: 79, loss: 0.25792268, execution time: 0.2s\n",
      "epoche: 80, loss: 0.00150360, execution time: 0.2s\n",
      "epoche: 81, loss: 0.00000000, execution time: 0.2s\n",
      "epoche: 82, loss: 0.00000308, execution time: 0.2s\n",
      "epoche: 83, loss: 0.24997699, execution time: 0.2s\n",
      "epoche: 84, loss: 0.00000005, execution time: 0.2s\n",
      "epoche: 85, loss: 0.20252754, execution time: 0.2s\n",
      "epoche: 86, loss: 0.00000455, execution time: 0.2s\n",
      "epoche: 87, loss: 0.00000377, execution time: 0.2s\n",
      "epoche: 88, loss: 0.00000000, execution time: 0.2s\n",
      "epoche: 89, loss: 0.27549508, execution time: 0.2s\n",
      "epoche: 90, loss: 0.33333334, execution time: 0.2s\n",
      "epoche: 91, loss: 0.00000311, execution time: 0.2s\n",
      "epoche: 92, loss: 0.00053415, execution time: 0.2s\n",
      "epoche: 93, loss: 0.03080442, execution time: 0.2s\n",
      "epoche: 94, loss: 0.00000000, execution time: 0.2s\n",
      "epoche: 95, loss: 0.00000871, execution time: 0.2s\n",
      "epoche: 96, loss: 0.00003743, execution time: 0.2s\n",
      "epoche: 97, loss: 0.00000175, execution time: 0.2s\n",
      "epoche: 98, loss: 0.00000000, execution time: 0.2s\n",
      "epoche: 99, loss: 0.00000005, execution time: 0.2s\n",
      "✅ training ended ,final loss: 0.00000005, time: 18.1s\n"
     ]
    }
   ],
   "source": [
    "# training\n",
    "model = ForcastModelMulti(input=34, output=6)\n",
    "model.fit(train_x, train_y, epoches=100)"
   ]
  },
  {
   "cell_type": "code",
   "execution_count": 15,
   "metadata": {},
   "outputs": [
    {
     "name": "stdout",
     "output_type": "stream",
     "text": [
      "loss: 0.0000, acc: 0.8444\n"
     ]
    }
   ],
   "source": [
    "# testing\n",
    "model.test(test_x, test_y, bar=0.7)"
   ]
  }
 ],
 "metadata": {
  "interpreter": {
   "hash": "72c063d6035d88959ce5488d2496817d169a349dc57db45346e17e4ac662e96d"
  },
  "kernelspec": {
   "display_name": "Python 3.9.7 ('venv': venv)",
   "language": "python",
   "name": "python3"
  },
  "language_info": {
   "codemirror_mode": {
    "name": "ipython",
    "version": 3
   },
   "file_extension": ".py",
   "mimetype": "text/x-python",
   "name": "python",
   "nbconvert_exporter": "python",
   "pygments_lexer": "ipython3",
   "version": "3.9.11"
  },
  "orig_nbformat": 4
 },
 "nbformat": 4,
 "nbformat_minor": 2
}
