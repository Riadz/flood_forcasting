{
 "cells": [
  {
   "cell_type": "code",
   "execution_count": 1,
   "metadata": {},
   "outputs": [],
   "source": [
    "import math\n",
    "import torch\n",
    "import pandas as pd\n",
    "import numpy as np\n",
    "from utils import toTorchTensers, NormalizeData\n",
    "from Models import ForcastModelMulti\n",
    "\n"
   ]
  },
  {
   "cell_type": "code",
   "execution_count": 2,
   "metadata": {},
   "outputs": [],
   "source": [
    "# data\n",
    "DATA = np.genfromtxt(r'./data/dermatology.data', delimiter=',')\n",
    "np.random.seed(2)\n",
    "np.random.shuffle(DATA)\n",
    "split_point = math.floor(len(DATA) * 0.75)\n",
    "\n",
    "train_x, train_y = DATA[:split_point, :-1], DATA[:split_point, -1]\n",
    "test_x, test_y = DATA[split_point:, :-1], DATA[split_point:, -1]\n",
    "\n",
    "[train_x, train_y, test_x, test_y] = toTorchTensers(\n",
    "  train_x, train_y, test_x, test_y\n",
    ")"
   ]
  },
  {
   "cell_type": "code",
   "execution_count": 3,
   "metadata": {},
   "outputs": [
    {
     "name": "stdout",
     "output_type": "stream",
     "text": [
      "⚙ training ...\n"
     ]
    },
    {
     "name": "stderr",
     "output_type": "stream",
     "text": [
      "c:\\Users\\Riad\\Desktop\\MASTER 2\\PROJET_CODE\\venv\\lib\\site-packages\\torch\\nn\\modules\\container.py:141: UserWarning: Implicit dimension choice for softmax has been deprecated. Change the call to include dim=X as an argument.\n",
      "  input = module(input)\n"
     ]
    },
    {
     "name": "stdout",
     "output_type": "stream",
     "text": [
      "epoche: 0, loss: 0.12588835, execution time: 0.2s\n",
      "epoche: 1, loss: 0.12341261, execution time: 0.2s\n",
      "epoche: 2, loss: 0.11757668, execution time: 0.2s\n",
      "epoche: 3, loss: 0.10850987, execution time: 0.2s\n",
      "epoche: 4, loss: 0.07725290, execution time: 0.2s\n",
      "epoche: 5, loss: 0.02861797, execution time: 0.3s\n",
      "epoche: 6, loss: 0.01567520, execution time: 0.2s\n",
      "epoche: 7, loss: 0.00050927, execution time: 0.2s\n",
      "epoche: 8, loss: 0.01753135, execution time: 0.2s\n",
      "epoche: 9, loss: 0.00000000, execution time: 0.2s\n",
      "epoche: 10, loss: 0.03264462, execution time: 0.2s\n",
      "epoche: 11, loss: 0.02954743, execution time: 0.2s\n",
      "epoche: 12, loss: 0.00000000, execution time: 0.2s\n",
      "epoche: 13, loss: 0.01897039, execution time: 0.2s\n",
      "epoche: 14, loss: 0.00822198, execution time: 0.2s\n",
      "epoche: 15, loss: 0.00703367, execution time: 0.2s\n",
      "epoche: 16, loss: 0.00410604, execution time: 0.2s\n",
      "epoche: 17, loss: 0.01372590, execution time: 0.2s\n",
      "epoche: 18, loss: 0.05204546, execution time: 0.2s\n",
      "epoche: 19, loss: 0.00048457, execution time: 0.2s\n",
      "epoche: 20, loss: 0.00920384, execution time: 0.2s\n",
      "epoche: 21, loss: 0.00491258, execution time: 0.2s\n",
      "epoche: 22, loss: 0.11438102, execution time: 0.2s\n",
      "epoche: 23, loss: 0.00010996, execution time: 0.2s\n",
      "epoche: 24, loss: 0.00001211, execution time: 0.3s\n",
      "epoche: 25, loss: 0.10275082, execution time: 0.2s\n",
      "epoche: 26, loss: 0.05226098, execution time: 0.2s\n",
      "epoche: 27, loss: 0.00000037, execution time: 0.2s\n",
      "epoche: 28, loss: 0.05416511, execution time: 0.2s\n",
      "epoche: 29, loss: 0.14387800, execution time: 0.2s\n",
      "epoche: 30, loss: 0.00000000, execution time: 0.2s\n",
      "epoche: 31, loss: 0.00085862, execution time: 0.2s\n",
      "epoche: 32, loss: 0.01067659, execution time: 0.2s\n",
      "epoche: 33, loss: 0.00001011, execution time: 0.2s\n",
      "epoche: 34, loss: 0.00640606, execution time: 0.2s\n",
      "epoche: 35, loss: 0.01393153, execution time: 0.2s\n",
      "epoche: 36, loss: 0.19447039, execution time: 0.2s\n",
      "epoche: 37, loss: 0.13685833, execution time: 0.2s\n",
      "epoche: 38, loss: 0.00600755, execution time: 0.2s\n",
      "epoche: 39, loss: 0.00034991, execution time: 0.2s\n",
      "epoche: 40, loss: 0.00018820, execution time: 0.2s\n",
      "epoche: 41, loss: 0.00145242, execution time: 0.2s\n",
      "epoche: 42, loss: 0.00000969, execution time: 0.2s\n",
      "epoche: 43, loss: 0.29663870, execution time: 0.2s\n",
      "epoche: 44, loss: 0.00680669, execution time: 0.2s\n",
      "epoche: 45, loss: 0.04966072, execution time: 0.2s\n",
      "epoche: 46, loss: 0.16933601, execution time: 0.2s\n",
      "epoche: 47, loss: 0.00226121, execution time: 0.2s\n",
      "epoche: 48, loss: 0.01008200, execution time: 0.2s\n",
      "epoche: 49, loss: 0.00787552, execution time: 0.2s\n",
      "epoche: 50, loss: 0.00281739, execution time: 0.2s\n",
      "epoche: 51, loss: 0.00003555, execution time: 0.2s\n",
      "epoche: 52, loss: 0.00009239, execution time: 0.2s\n",
      "epoche: 53, loss: 0.00733386, execution time: 0.2s\n",
      "epoche: 54, loss: 0.09230241, execution time: 0.2s\n",
      "epoche: 55, loss: 0.01086196, execution time: 0.2s\n",
      "epoche: 56, loss: 0.00430825, execution time: 0.2s\n",
      "epoche: 57, loss: 0.01233005, execution time: 0.3s\n",
      "epoche: 58, loss: 0.00676122, execution time: 0.2s\n",
      "epoche: 59, loss: 0.00449625, execution time: 0.3s\n",
      "epoche: 60, loss: 0.03071182, execution time: 0.3s\n",
      "epoche: 61, loss: 0.07246014, execution time: 0.3s\n",
      "epoche: 62, loss: 0.01117310, execution time: 0.3s\n",
      "epoche: 63, loss: 0.02278292, execution time: 0.2s\n",
      "epoche: 64, loss: 0.00014113, execution time: 0.2s\n",
      "epoche: 65, loss: 0.00223973, execution time: 0.2s\n",
      "epoche: 66, loss: 0.00035269, execution time: 0.2s\n",
      "epoche: 67, loss: 0.02514733, execution time: 0.2s\n",
      "epoche: 68, loss: 0.01020315, execution time: 0.2s\n",
      "epoche: 69, loss: 0.00186114, execution time: 0.2s\n",
      "epoche: 70, loss: 0.01927888, execution time: 0.2s\n",
      "epoche: 71, loss: 0.00000002, execution time: 0.2s\n",
      "epoche: 72, loss: 0.00704568, execution time: 0.2s\n",
      "epoche: 73, loss: 0.00092666, execution time: 0.2s\n",
      "epoche: 74, loss: 0.00000000, execution time: 0.2s\n",
      "epoche: 75, loss: 0.00465037, execution time: 0.3s\n",
      "epoche: 76, loss: 0.01468405, execution time: 0.2s\n",
      "epoche: 77, loss: 0.01694603, execution time: 0.2s\n",
      "epoche: 78, loss: 0.01195673, execution time: 0.2s\n",
      "epoche: 79, loss: 0.00000000, execution time: 0.2s\n",
      "epoche: 80, loss: 0.08810540, execution time: 0.2s\n",
      "epoche: 81, loss: 0.00000859, execution time: 0.4s\n",
      "epoche: 82, loss: 0.00054403, execution time: 0.3s\n",
      "epoche: 83, loss: 0.31906426, execution time: 0.2s\n",
      "epoche: 84, loss: 0.02489718, execution time: 0.3s\n",
      "epoche: 85, loss: 0.00390853, execution time: 0.3s\n",
      "epoche: 86, loss: 0.00095452, execution time: 0.3s\n",
      "epoche: 87, loss: 0.00019746, execution time: 0.2s\n",
      "epoche: 88, loss: 0.00010833, execution time: 0.2s\n",
      "epoche: 89, loss: 0.00035936, execution time: 0.3s\n",
      "epoche: 90, loss: 0.02636054, execution time: 0.2s\n",
      "epoche: 91, loss: 0.00003777, execution time: 0.2s\n",
      "epoche: 92, loss: 0.00005871, execution time: 0.3s\n",
      "epoche: 93, loss: 0.00009506, execution time: 0.2s\n",
      "epoche: 94, loss: 0.00548820, execution time: 0.2s\n",
      "epoche: 95, loss: 0.00048488, execution time: 0.2s\n",
      "epoche: 96, loss: 0.01226426, execution time: 0.2s\n",
      "epoche: 97, loss: 0.00000095, execution time: 0.2s\n",
      "epoche: 98, loss: 0.00010421, execution time: 0.2s\n",
      "epoche: 99, loss: 0.00002882, execution time: 0.2s\n",
      "✅ training ended ,final loss: 0.00002882, time: 23.1s\n"
     ]
    }
   ],
   "source": [
    "# training\n",
    "model = ForcastModelMulti(input=34, output=6)\n",
    "model.fit(train_x, train_y, epoches=100)"
   ]
  },
  {
   "cell_type": "code",
   "execution_count": 4,
   "metadata": {},
   "outputs": [
    {
     "name": "stdout",
     "output_type": "stream",
     "text": [
      "loss: 0.0000, acc: 0.7778\n"
     ]
    }
   ],
   "source": [
    "# testing\n",
    "model.test(test_x, test_y, bar=0.7)"
   ]
  }
 ],
 "metadata": {
  "interpreter": {
   "hash": "72c063d6035d88959ce5488d2496817d169a349dc57db45346e17e4ac662e96d"
  },
  "kernelspec": {
   "display_name": "Python 3.9.7 ('venv': venv)",
   "language": "python",
   "name": "python3"
  },
  "language_info": {
   "codemirror_mode": {
    "name": "ipython",
    "version": 3
   },
   "file_extension": ".py",
   "mimetype": "text/x-python",
   "name": "python",
   "nbconvert_exporter": "python",
   "pygments_lexer": "ipython3",
   "version": "3.9.7"
  },
  "orig_nbformat": 4
 },
 "nbformat": 4,
 "nbformat_minor": 2
}
