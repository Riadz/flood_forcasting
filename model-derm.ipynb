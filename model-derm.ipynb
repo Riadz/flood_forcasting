{
 "cells": [
  {
   "cell_type": "code",
   "execution_count": 1,
   "metadata": {},
   "outputs": [],
   "source": [
    "import math\n",
    "import torch\n",
    "import pandas as pd\n",
    "import numpy as np\n",
    "from utils import toTorchTensers, NormalizeData\n",
    "from Models import ForcastModel\n",
    "\n",
    "DATA = np.genfromtxt(r'./tsne/tsne_egypt_flood_0.csv', delimiter=',')"
   ]
  },
  {
   "cell_type": "code",
   "execution_count": 2,
   "metadata": {},
   "outputs": [],
   "source": [
    "# data\n",
    "DATA = data_egypt\n",
    "DATA = NormalizeData(DATA)\n",
    "DATA = DATA.to_numpy()\n",
    "\n",
    "np.random.seed(1)\n",
    "np.random.shuffle(DATA)\n",
    "split_point = math.floor(len(DATA) * 0.75)\n",
    "\n",
    "train_x, train_y = DATA[:split_point, 1:], DATA[:split_point, 0:1]\n",
    "test_x, test_y = DATA[split_point:, 1:], DATA[split_point:, 0:1]\n",
    "\n",
    "[train_x, train_y, test_x, test_y] = toTorchTensers(\n",
    "  train_x, train_y, test_x, test_y\n",
    ")"
   ]
  },
  {
   "cell_type": "code",
   "execution_count": 3,
   "metadata": {},
   "outputs": [
    {
     "name": "stdout",
     "output_type": "stream",
     "text": [
      "epoche: 0, loss: 0.00015654, execution time: 1.5s\n",
      "epoche: 1, loss: 0.00001282, execution time: 1.3s\n",
      "epoche: 2, loss: 0.00000207, execution time: 1.3s\n",
      "epoche: 3, loss: 0.00000070, execution time: 1.3s\n",
      "epoche: 4, loss: 0.00000018, execution time: 1.4s\n",
      "epoche: 5, loss: 0.00000006, execution time: 1.3s\n",
      "epoche: 6, loss: 0.00000001, execution time: 1.3s\n",
      "epoche: 7, loss: 0.00000000, execution time: 1.2s\n",
      "epoche: 8, loss: 0.00000000, execution time: 1.3s\n",
      "epoche: 9, loss: 0.00000000, execution time: 1.2s\n",
      "epoche: 10, loss: 0.00000000, execution time: 1.2s\n",
      "epoche: 11, loss: 0.00000000, execution time: 1.2s\n",
      "epoche: 12, loss: 0.00000000, execution time: 1.4s\n",
      "epoche: 13, loss: 0.00000000, execution time: 1.5s\n",
      "epoche: 14, loss: 0.00000000, execution time: 1.4s\n",
      "epoche: 15, loss: 0.00000000, execution time: 1.3s\n",
      "epoche: 16, loss: 0.00000000, execution time: 1.3s\n",
      "epoche: 17, loss: 0.00000000, execution time: 1.4s\n",
      "epoche: 18, loss: 0.00000000, execution time: 1.4s\n",
      "epoche: 19, loss: 0.00000000, execution time: 1.3s\n",
      "epoche: 20, loss: 0.00000000, execution time: 1.2s\n",
      "epoche: 21, loss: 0.00000000, execution time: 1.3s\n",
      "epoche: 22, loss: 0.00000000, execution time: 1.3s\n",
      "epoche: 23, loss: 0.00000000, execution time: 1.5s\n",
      "epoche: 24, loss: 0.00000000, execution time: 1.3s\n",
      "epoche: 25, loss: 0.00000000, execution time: 1.3s\n",
      "epoche: 26, loss: 0.00000000, execution time: 1.3s\n",
      "epoche: 27, loss: 0.00000000, execution time: 1.4s\n",
      "epoche: 28, loss: 0.00000000, execution time: 1.3s\n",
      "epoche: 29, loss: 0.00000000, execution time: 1.3s\n",
      "epoche: 30, loss: 0.00000000, execution time: 1.2s\n",
      "epoche: 31, loss: 0.00000000, execution time: 1.3s\n",
      "epoche: 32, loss: 0.00000000, execution time: 1.3s\n",
      "epoche: 33, loss: 0.00000000, execution time: 1.3s\n",
      "epoche: 34, loss: 0.00000000, execution time: 1.2s\n",
      "epoche: 35, loss: 0.00000000, execution time: 1.2s\n",
      "epoche: 36, loss: 0.00000000, execution time: 1.2s\n",
      "epoche: 37, loss: 0.00000000, execution time: 1.2s\n",
      "epoche: 38, loss: 0.00000000, execution time: 1.2s\n",
      "epoche: 39, loss: 0.00000000, execution time: 1.2s\n",
      "epoche: 40, loss: 0.00000000, execution time: 1.2s\n",
      "epoche: 41, loss: 0.00000000, execution time: 1.2s\n",
      "epoche: 42, loss: 0.00000000, execution time: 1.2s\n",
      "epoche: 43, loss: 0.00000000, execution time: 1.3s\n",
      "epoche: 44, loss: 0.00000000, execution time: 1.3s\n",
      "epoche: 45, loss: 0.00000000, execution time: 1.2s\n",
      "epoche: 46, loss: 0.00000000, execution time: 1.2s\n",
      "epoche: 47, loss: 0.00000000, execution time: 1.2s\n",
      "epoche: 48, loss: 0.00000000, execution time: 1.3s\n",
      "epoche: 49, loss: 0.00000000, execution time: 1.4s\n",
      "epoche: 50, loss: 0.00000000, execution time: 1.4s\n",
      "epoche: 51, loss: 0.00000000, execution time: 1.3s\n",
      "epoche: 52, loss: 0.00000000, execution time: 1.7s\n",
      "epoche: 53, loss: 0.00000000, execution time: 1.7s\n",
      "epoche: 54, loss: 0.00000000, execution time: 1.6s\n",
      "epoche: 55, loss: 0.00000000, execution time: 1.4s\n",
      "epoche: 56, loss: 0.00000000, execution time: 1.3s\n",
      "epoche: 57, loss: 0.00000000, execution time: 1.6s\n",
      "epoche: 58, loss: 0.00000000, execution time: 1.3s\n",
      "epoche: 59, loss: 0.00000000, execution time: 1.2s\n",
      "epoche: 60, loss: 0.00000000, execution time: 1.2s\n",
      "epoche: 61, loss: 0.00000000, execution time: 1.2s\n",
      "epoche: 62, loss: 0.00000000, execution time: 1.3s\n",
      "epoche: 63, loss: 0.00000000, execution time: 1.6s\n",
      "epoche: 64, loss: 0.00000000, execution time: 1.4s\n",
      "epoche: 65, loss: 0.00000000, execution time: 1.4s\n",
      "epoche: 66, loss: 0.00000000, execution time: 1.5s\n",
      "epoche: 67, loss: 0.00000000, execution time: 1.3s\n",
      "epoche: 68, loss: 0.00000000, execution time: 1.3s\n",
      "epoche: 69, loss: 0.00000000, execution time: 1.2s\n",
      "epoche: 70, loss: 0.00000000, execution time: 1.2s\n",
      "epoche: 71, loss: 0.00000000, execution time: 1.3s\n",
      "epoche: 72, loss: 0.00000000, execution time: 1.3s\n",
      "epoche: 73, loss: 0.00000000, execution time: 1.3s\n",
      "epoche: 74, loss: 0.00000000, execution time: 1.4s\n",
      "epoche: 75, loss: 0.00000000, execution time: 1.4s\n",
      "epoche: 76, loss: 0.00000000, execution time: 1.4s\n",
      "epoche: 77, loss: 0.00000000, execution time: 1.5s\n",
      "epoche: 78, loss: 0.00000000, execution time: 1.5s\n",
      "epoche: 79, loss: 0.00000000, execution time: 1.3s\n",
      "epoche: 80, loss: 0.00000000, execution time: 1.3s\n",
      "epoche: 81, loss: 0.00000000, execution time: 1.3s\n",
      "epoche: 82, loss: 0.00000000, execution time: 1.3s\n",
      "epoche: 83, loss: 0.00000000, execution time: 1.3s\n",
      "epoche: 84, loss: 0.00000000, execution time: 1.2s\n",
      "epoche: 85, loss: 0.00000000, execution time: 1.3s\n",
      "epoche: 86, loss: 0.00000000, execution time: 1.3s\n",
      "epoche: 87, loss: 0.00000000, execution time: 1.4s\n",
      "epoche: 88, loss: 0.00000000, execution time: 1.4s\n",
      "epoche: 89, loss: 0.00000000, execution time: 1.4s\n",
      "epoche: 90, loss: 0.00000000, execution time: 1.2s\n",
      "epoche: 91, loss: 0.00000000, execution time: 1.3s\n",
      "epoche: 92, loss: 0.00000000, execution time: 1.2s\n",
      "epoche: 93, loss: 0.00000000, execution time: 1.2s\n",
      "epoche: 94, loss: 0.00000000, execution time: 1.3s\n",
      "epoche: 95, loss: 0.00000000, execution time: 1.2s\n",
      "epoche: 96, loss: 0.00000000, execution time: 1.3s\n",
      "epoche: 97, loss: 0.00000000, execution time: 1.3s\n",
      "epoche: 98, loss: 0.00000000, execution time: 1.3s\n",
      "epoche: 99, loss: 0.00000000, execution time: 1.2s\n"
     ]
    }
   ],
   "source": [
    "# training\n",
    "model = ForcastModel()\n",
    "model.fit(train_x, train_y, epoches=100)"
   ]
  },
  {
   "cell_type": "code",
   "execution_count": 7,
   "metadata": {},
   "outputs": [
    {
     "name": "stdout",
     "output_type": "stream",
     "text": [
      "loss: 0.0000, acc: 0.9099\n"
     ]
    }
   ],
   "source": [
    "# testing\n",
    "model.test(test_x, test_y, bar=0.7)"
   ]
  }
 ],
 "metadata": {
  "interpreter": {
   "hash": "72c063d6035d88959ce5488d2496817d169a349dc57db45346e17e4ac662e96d"
  },
  "kernelspec": {
   "display_name": "Python 3.9.7 ('venv': venv)",
   "language": "python",
   "name": "python3"
  },
  "language_info": {
   "codemirror_mode": {
    "name": "ipython",
    "version": 3
   },
   "file_extension": ".py",
   "mimetype": "text/x-python",
   "name": "python",
   "nbconvert_exporter": "python",
   "pygments_lexer": "ipython3",
   "version": "3.9.11"
  },
  "orig_nbformat": 4
 },
 "nbformat": 4,
 "nbformat_minor": 2
}
