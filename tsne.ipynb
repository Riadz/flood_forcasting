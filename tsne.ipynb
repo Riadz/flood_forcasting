{
 "cells": [
  {
   "cell_type": "code",
   "execution_count": null,
   "metadata": {},
   "outputs": [],
   "source": [
    "import math\n",
    "import torch\n",
    "import pandas as pd\n",
    "import numpy as np\n",
    "import matplotlib.pyplot as plt\n",
    "from libs.tsne import tsne\n",
    "\n",
    "\n",
    "def NormalizeData(data):\n",
    "  def min_max_scaling(series):\n",
    "    return (series - series.min()) / (series.max() - series.min())\n",
    "\n",
    "  for col in data.columns:\n",
    "    data[col] = min_max_scaling(data[col])\n",
    "  return data\n",
    "\n",
    "\n",
    "data_url = r'./data/Data.xlsx'\n",
    "data_egypt = pd.read_excel(data_url, sheet_name='Egypt')\n",
    "data_vietnam = pd.read_excel(data_url, sheet_name='Vietnam')\n",
    "\n",
    "DATA = data_vietnam\n",
    "DATA = NormalizeData(DATA)\n",
    "DATA = DATA.to_numpy()\n",
    "\n",
    "labels = DATA[:, :1]\n",
    "labels = np.array(\n",
    "    list(map(lambda x: 'red' if x == 1 else 'green', labels))\n",
    ")\n",
    "\n",
    "X = DATA[:, 1:]\n",
    "X = torch.Tensor(X)\n",
    "\n",
    "TSNE_EMB = tsne(X, 3, 12, 20.0)\n",
    "TSNE_EMB = TSNE_EMB.cpu().numpy()\n",
    "\n",
    "\n",
    "np.savetxt(\"./tsne/tsne_egypt.csv\", TSNE_EMB, delimiter=\",\")\n"
   ]
  }
 ],
 "metadata": {
  "language_info": {
   "name": "python"
  },
  "orig_nbformat": 4
 },
 "nbformat": 4,
 "nbformat_minor": 2
}
