{
 "cells": [
  {
   "cell_type": "code",
   "execution_count": 10,
   "metadata": {},
   "outputs": [],
   "source": [
    "from sklearn import tree\n",
    "from sklearn.model_selection import train_test_split\n",
    "from sklearn import metrics\n",
    "import math\n",
    "import pandas as pd\n",
    "import numpy as np"
   ]
  },
  {
   "cell_type": "code",
   "execution_count": 11,
   "metadata": {},
   "outputs": [
    {
     "name": "stdout",
     "output_type": "stream",
     "text": [
      "(1029, 4) (1029,)\n",
      "class 1: 361 class 2: 208 class 3: 236 class 4: 224\n"
     ]
    }
   ],
   "source": [
    "# data\n",
    "DATA = np.genfromtxt(\n",
    "    r'./data/other_banknote_authentication_c.csv', delimiter=','\n",
    ")\n",
    "\n",
    "train_x, test_x, train_y, test_y = train_test_split(\n",
    "    DATA[:, :-1], DATA[:, -1], test_size=0.25, random_state=1\n",
    ")\n",
    "\n",
    "print(train_x.shape, train_y.shape)\n",
    "print(\n",
    "    f'class 1: {(train_y == 1).sum()}',\n",
    "    f'class 2: {(train_y == 2).sum()}',\n",
    "    f'class 3: {(train_y == 3).sum()}',\n",
    "    f'class 4: {(train_y == 4).sum()}',\n",
    ")\n"
   ]
  },
  {
   "cell_type": "code",
   "execution_count": 18,
   "metadata": {},
   "outputs": [
    {
     "data": {
      "text/plain": [
       "DecisionTreeClassifier()"
      ]
     },
     "execution_count": 18,
     "metadata": {},
     "output_type": "execute_result"
    }
   ],
   "source": [
    "tree_classifier = tree.DecisionTreeClassifier()\n",
    "tree_classifier.fit(train_x, train_y)"
   ]
  },
  {
   "cell_type": "code",
   "execution_count": 19,
   "metadata": {},
   "outputs": [
    {
     "name": "stdout",
     "output_type": "stream",
     "text": [
      "ACC: 0.9941690962099126\n",
      "RMSE: 0.014577259475218658\n",
      "[[131   0   1   0]\n",
      " [  0  61   0   0]\n",
      " [  0   0  74   1]\n",
      " [  0   0   0  75]]\n"
     ]
    }
   ],
   "source": [
    "pred_y = tree_classifier.predict(test_x)\n",
    "\n",
    "print(\"ACC:\", metrics.accuracy_score(test_y, pred_y))\n",
    "print(\"RMSE:\", metrics.mean_squared_error(test_y, pred_y))\n",
    "print(metrics.confusion_matrix(test_y, pred_y))\n"
   ]
  }
 ],
 "metadata": {
  "interpreter": {
   "hash": "72c063d6035d88959ce5488d2496817d169a349dc57db45346e17e4ac662e96d"
  },
  "kernelspec": {
   "display_name": "Python 3.9.7 ('venv': venv)",
   "language": "python",
   "name": "python3"
  },
  "language_info": {
   "codemirror_mode": {
    "name": "ipython",
    "version": 3
   },
   "file_extension": ".py",
   "mimetype": "text/x-python",
   "name": "python",
   "nbconvert_exporter": "python",
   "pygments_lexer": "ipython3",
   "version": "3.9.7"
  },
  "orig_nbformat": 4
 },
 "nbformat": 4,
 "nbformat_minor": 2
}
