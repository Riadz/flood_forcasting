{
 "cells": [
  {
   "cell_type": "code",
   "execution_count": 91,
   "metadata": {},
   "outputs": [],
   "source": [
    "from sklearn import tree\n",
    "from sklearn.model_selection import train_test_split\n",
    "from sklearn import metrics\n",
    "import math\n",
    "import pandas as pd\n",
    "import numpy as np"
   ]
  },
  {
   "cell_type": "code",
   "execution_count": 92,
   "metadata": {},
   "outputs": [
    {
     "name": "stdout",
     "output_type": "stream",
     "text": [
      "(664, 12) (664,)\n",
      "class 1: 75 class 2: 262 class 3: 264 class 4: 63\n"
     ]
    }
   ],
   "source": [
    "# data\n",
    "DATA = np.genfromtxt(r'./data/Data_egypt_cluster.csv', delimiter=',')\n",
    "\n",
    "train_x, test_x, train_y, test_y = train_test_split(\n",
    "    DATA[:, 1:], DATA[:, 0], test_size=0.25, random_state=1\n",
    ")\n",
    "\n",
    "print(train_x.shape, train_y.shape)\n",
    "print(\n",
    "    f'class 1: {(train_y == 1).sum()}',\n",
    "    f'class 2: {(train_y == 2).sum()}',\n",
    "    f'class 3: {(train_y == 3).sum()}',\n",
    "    f'class 4: {(train_y == 4).sum()}',\n",
    ")\n"
   ]
  },
  {
   "cell_type": "code",
   "execution_count": 93,
   "metadata": {},
   "outputs": [
    {
     "data": {
      "text/plain": [
       "DecisionTreeClassifier()"
      ]
     },
     "execution_count": 93,
     "metadata": {},
     "output_type": "execute_result"
    }
   ],
   "source": [
    "tree_classifier = tree.DecisionTreeClassifier()\n",
    "tree_classifier.fit(train_x, train_y)"
   ]
  },
  {
   "cell_type": "code",
   "execution_count": 94,
   "metadata": {},
   "outputs": [
    {
     "name": "stdout",
     "output_type": "stream",
     "text": [
      "ACC: 0.9099099099099099\n",
      "RMSE: 0.23423423423423423\n",
      "[[29  2  0  1]\n",
      " [ 3 73  3  0]\n",
      " [ 0  8 75  0]\n",
      " [ 3  0  0 25]]\n"
     ]
    }
   ],
   "source": [
    "pred_y = tree_classifier.predict(test_x)\n",
    "\n",
    "print(\"ACC:\", metrics.accuracy_score(test_y, pred_y))\n",
    "print(\"RMSE:\", metrics.mean_squared_error(test_y, pred_y))\n",
    "print(metrics.confusion_matrix(test_y, pred_y))\n"
   ]
  }
 ],
 "metadata": {
  "interpreter": {
   "hash": "72c063d6035d88959ce5488d2496817d169a349dc57db45346e17e4ac662e96d"
  },
  "kernelspec": {
   "display_name": "Python 3.9.7 ('venv': venv)",
   "language": "python",
   "name": "python3"
  },
  "language_info": {
   "codemirror_mode": {
    "name": "ipython",
    "version": 3
   },
   "file_extension": ".py",
   "mimetype": "text/x-python",
   "name": "python",
   "nbconvert_exporter": "python",
   "pygments_lexer": "ipython3",
   "version": "3.9.7"
  },
  "orig_nbformat": 4
 },
 "nbformat": 4,
 "nbformat_minor": 2
}
