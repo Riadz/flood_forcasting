{
 "cells": [
  {
   "cell_type": "code",
   "execution_count": 165,
   "metadata": {},
   "outputs": [],
   "source": [
    "from sklearn import tree\n",
    "from sklearn.model_selection import train_test_split\n",
    "from sklearn import metrics\n",
    "import math\n",
    "import pandas as pd\n",
    "import numpy as np"
   ]
  },
  {
   "cell_type": "code",
   "execution_count": 166,
   "metadata": {},
   "outputs": [
    {
     "name": "stdout",
     "output_type": "stream",
     "text": [
      "(576, 8) (576,)\n",
      "class 1: 204 class 2: 150 class 3: 222\n"
     ]
    }
   ],
   "source": [
    "# data\n",
    "DATA = np.genfromtxt(\n",
    "    r'./data/other_diabetes_c.csv', delimiter=','\n",
    ")\n",
    "\n",
    "train_x, test_x, train_y, test_y = train_test_split(\n",
    "    DATA[:, :-1], DATA[:, -1], test_size=0.25, random_state=1\n",
    ")\n",
    "\n",
    "print(train_x.shape, train_y.shape)\n",
    "print(\n",
    "    f'class 1: {(train_y == 1).sum()}',\n",
    "    f'class 2: {(train_y == 2).sum()}',\n",
    "    f'class 3: {(train_y == 3).sum()}',\n",
    "    # f'class 4: {(train_y == 4).sum()}',\n",
    ")\n"
   ]
  },
  {
   "cell_type": "code",
   "execution_count": 167,
   "metadata": {},
   "outputs": [
    {
     "data": {
      "text/plain": [
       "DecisionTreeClassifier()"
      ]
     },
     "execution_count": 167,
     "metadata": {},
     "output_type": "execute_result"
    }
   ],
   "source": [
    "tree_classifier = tree.DecisionTreeClassifier()\n",
    "tree_classifier.fit(train_x, train_y)"
   ]
  },
  {
   "cell_type": "code",
   "execution_count": 164,
   "metadata": {},
   "outputs": [
    {
     "name": "stdout",
     "output_type": "stream",
     "text": [
      "ACC: 0.7083333333333334\n",
      "RMSE: 0.7447916666666666\n",
      "[[35 17 12]\n",
      " [ 8 50  1]\n",
      " [17  1 51]]\n"
     ]
    }
   ],
   "source": [
    "pred_y = tree_classifier.predict(test_x)\n",
    "\n",
    "print(\"ACC:\", metrics.accuracy_score(test_y, pred_y))\n",
    "print(\"RMSE:\", metrics.mean_squared_error(test_y, pred_y))\n",
    "print(metrics.confusion_matrix(test_y, pred_y))\n"
   ]
  }
 ],
 "metadata": {
  "interpreter": {
   "hash": "72c063d6035d88959ce5488d2496817d169a349dc57db45346e17e4ac662e96d"
  },
  "kernelspec": {
   "display_name": "Python 3.9.7 ('venv': venv)",
   "language": "python",
   "name": "python3"
  },
  "language_info": {
   "codemirror_mode": {
    "name": "ipython",
    "version": 3
   },
   "file_extension": ".py",
   "mimetype": "text/x-python",
   "name": "python",
   "nbconvert_exporter": "python",
   "pygments_lexer": "ipython3",
   "version": "3.9.7"
  },
  "orig_nbformat": 4
 },
 "nbformat": 4,
 "nbformat_minor": 2
}
