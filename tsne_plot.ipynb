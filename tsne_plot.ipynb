{
 "cells": [
  {
   "cell_type": "code",
   "execution_count": 2,
   "metadata": {},
   "outputs": [],
   "source": [
    "import pandas as pd\n",
    "import numpy as np\n",
    "import matplotlib.pyplot as plt\n",
    "\n",
    "# \n",
    "data_url = r'./data/Data.xlsx'\n",
    "data_egypt = pd.read_excel(data_url, sheet_name='Egypt')\n",
    "data_vietnam = pd.read_excel(data_url, sheet_name='Vietnam')"
   ]
  },
  {
   "cell_type": "code",
   "execution_count": 6,
   "metadata": {},
   "outputs": [],
   "source": [
    "# Egypt all\n",
    "DATA = data_egypt\n",
    "DATA = DATA.to_numpy()\n",
    "\n",
    "labels = DATA[:, :1]\n",
    "labels = np.array(\n",
    "    list(map(lambda x: 'red' if x == 1 else 'green', labels))\n",
    ")\n",
    "TSNE_EMB = np.genfromtxt(r'./tsne/tsne_egypt.csv', delimiter=',')\n",
    "\n",
    "%matplotlib qt\n",
    "fig = plt.figure()\n",
    "ax = fig.add_subplot(111, projection='3d')\n",
    "ax.set_xlabel('PC-1')\n",
    "ax.set_ylabel('PC-2')\n",
    "ax.set_zlabel('PC-3')\n",
    "\n",
    "ax.scatter(\n",
    "    TSNE_EMB[:, 0], TSNE_EMB[:, 1], TSNE_EMB[:, 2],\n",
    "    s=15, c=labels, marker='o'\n",
    ")\n",
    "plt.show()"
   ]
  },
  {
   "cell_type": "code",
   "execution_count": 3,
   "metadata": {},
   "outputs": [],
   "source": [
    "# Egypt flood = 1\n",
    "TSNE_EMB = np.genfromtxt(r'./tsne/tsne_egypt_flood_1.csv', delimiter=',')\n",
    "\n",
    "fig = plt.figure()\n",
    "ax = fig.add_subplot(111, projection='3d')\n",
    "ax.set_xlabel('PC-1')\n",
    "ax.set_ylabel('PC-2')\n",
    "ax.set_zlabel('PC-3')\n",
    "\n",
    "ax.scatter(\n",
    "    TSNE_EMB[:, 0], TSNE_EMB[:, 1], TSNE_EMB[:, 2],\n",
    "    s=15, marker='o'\n",
    ")\n",
    "plt.show()"
   ]
  },
  {
   "cell_type": "code",
   "execution_count": 4,
   "metadata": {},
   "outputs": [],
   "source": [
    "# Egypt flood = 0\n",
    "TSNE_EMB = np.genfromtxt(r'./tsne/tsne_egypt_flood_0.csv', delimiter=',')\n",
    "\n",
    "fig = plt.figure()\n",
    "ax = fig.add_subplot(111, projection='3d')\n",
    "ax.set_xlabel('PC-1')\n",
    "ax.set_ylabel('PC-2')\n",
    "ax.set_zlabel('PC-3')\n",
    "\n",
    "ax.scatter(\n",
    "    TSNE_EMB[:, 0], TSNE_EMB[:, 1], TSNE_EMB[:, 2],\n",
    "    s=15, marker='o'\n",
    ")\n",
    "plt.show()"
   ]
  },
  {
   "cell_type": "code",
   "execution_count": 5,
   "metadata": {},
   "outputs": [],
   "source": [
    "# Vietnam all\n",
    "DATA = data_vietnam\n",
    "DATA = DATA.to_numpy()\n",
    "\n",
    "labels = DATA[:, :1]\n",
    "labels = np.array(\n",
    "    list(map(lambda x: 'red' if x == 1 else 'green', labels))\n",
    ")\n",
    "TSNE_EMB = np.genfromtxt(r'./tsne/tsne_vietnam.csv', delimiter=',')\n",
    "\n",
    "%matplotlib qt\n",
    "fig = plt.figure()\n",
    "ax = fig.add_subplot(111, projection='3d')\n",
    "ax.set_xlabel('PC-1')\n",
    "ax.set_ylabel('PC-2')\n",
    "ax.set_zlabel('PC-3')\n",
    "\n",
    "ax.scatter(\n",
    "    TSNE_EMB[:, 0], TSNE_EMB[:, 1], TSNE_EMB[:, 2],\n",
    "    s=15, c=labels, marker='o'\n",
    ")\n",
    "plt.show()"
   ]
  },
  {
   "cell_type": "code",
   "execution_count": 12,
   "metadata": {},
   "outputs": [],
   "source": [
    "# Vietnam flood = 1\n",
    "TSNE_EMB = np.genfromtxt(r'./tsne/tsne_vietnam_flood_1.csv', delimiter=',')\n",
    "\n",
    "fig = plt.figure()\n",
    "ax = fig.add_subplot(111, projection='3d')\n",
    "ax.set_xlabel('PC-1')\n",
    "ax.set_ylabel('PC-2')\n",
    "ax.set_zlabel('PC-3')\n",
    "\n",
    "ax.scatter(\n",
    "    TSNE_EMB[:, 0], TSNE_EMB[:, 1], TSNE_EMB[:, 2],\n",
    "    s=15, marker='o'\n",
    ")\n",
    "plt.show()"
   ]
  },
  {
   "cell_type": "code",
   "execution_count": 11,
   "metadata": {},
   "outputs": [],
   "source": [
    "# Vietnam flood = 0\n",
    "TSNE_EMB = np.genfromtxt(r'./tsne/tsne_vietnam_flood_0.csv', delimiter=',')\n",
    "\n",
    "fig = plt.figure()\n",
    "ax = fig.add_subplot(111, projection='3d')\n",
    "ax.set_xlabel('PC-1')\n",
    "ax.set_ylabel('PC-2')\n",
    "ax.set_zlabel('PC-3')\n",
    "\n",
    "ax.scatter(\n",
    "    TSNE_EMB[:, 0], TSNE_EMB[:, 1], TSNE_EMB[:, 2],\n",
    "    s=15, marker='o'\n",
    ")\n",
    "plt.show()"
   ]
  },
  {
   "cell_type": "code",
   "execution_count": 7,
   "metadata": {},
   "outputs": [],
   "source": [
    "# Egypt all\n",
    "DATA = np.genfromtxt(\n",
    "    r'./data/other_banknote_authentication.csv', delimiter=','\n",
    ")\n",
    "\n",
    "labels = DATA[:, -1]\n",
    "labels = np.array(\n",
    "    list(map(lambda x: 'red' if x == 1 else 'green', labels))\n",
    ")\n",
    "\n",
    "TSNE_EMB = np.genfromtxt(r'./tsne/tsne__.csv', delimiter=',')\n",
    "\n",
    "%matplotlib qt\n",
    "fig = plt.figure()\n",
    "ax = fig.add_subplot(111, projection='3d')\n",
    "ax.set_xlabel('PC-1')\n",
    "ax.set_ylabel('PC-2')\n",
    "ax.set_zlabel('PC-3')\n",
    "\n",
    "ax.scatter(\n",
    "    TSNE_EMB[:, 0], TSNE_EMB[:, 1], TSNE_EMB[:, 2],\n",
    "    s=15, c=labels, marker='o'\n",
    ")\n",
    "plt.show()\n"
   ]
  }
 ],
 "metadata": {
  "interpreter": {
   "hash": "72c063d6035d88959ce5488d2496817d169a349dc57db45346e17e4ac662e96d"
  },
  "kernelspec": {
   "display_name": "Python 3.9.7 ('venv': venv)",
   "language": "python",
   "name": "python3"
  },
  "language_info": {
   "codemirror_mode": {
    "name": "ipython",
    "version": 3
   },
   "file_extension": ".py",
   "mimetype": "text/x-python",
   "name": "python",
   "nbconvert_exporter": "python",
   "pygments_lexer": "ipython3",
   "version": "3.9.7"
  },
  "orig_nbformat": 4
 },
 "nbformat": 4,
 "nbformat_minor": 2
}
