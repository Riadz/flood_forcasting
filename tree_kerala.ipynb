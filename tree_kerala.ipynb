{
 "cells": [
  {
   "cell_type": "code",
   "execution_count": 1,
   "metadata": {},
   "outputs": [],
   "source": [
    "from sklearn import tree\n",
    "import math\n",
    "import pandas as pd\n",
    "import numpy as np\n"
   ]
  },
  {
   "cell_type": "code",
   "execution_count": 17,
   "metadata": {},
   "outputs": [
    {
     "name": "stdout",
     "output_type": "stream",
     "text": [
      "class 1: 63 class 2: 62\n",
      "(70, 13) (70,)\n",
      "class 1: 34 class 2: 36\n"
     ]
    }
   ],
   "source": [
    "# data\n",
    "DATA = np.genfromtxt(r'./data/kerala.csv', delimiter=',')\n",
    "print(\n",
    "    f'class 1: {(DATA == 0).sum()}',\n",
    "    f'class 2: {(DATA == 1).sum()}',\n",
    ")\n",
    "np.random.seed(2)\n",
    "np.random.shuffle(DATA)\n",
    "split_point = math.floor(len(DATA) * 0.6)\n",
    "\n",
    "train_x, train_y = DATA[:split_point, :-1], DATA[:split_point, -1]\n",
    "test_x, test_y = DATA[split_point:, :-1], DATA[split_point:, -1]\n",
    "\n",
    "print(train_x.shape, train_y.shape)\n",
    "print(\n",
    "    f'class 1: {(train_y == 0).sum()}',\n",
    "    f'class 2: {(train_y == 1).sum()}',\n",
    ")\n"
   ]
  },
  {
   "cell_type": "code",
   "execution_count": 18,
   "metadata": {},
   "outputs": [
    {
     "data": {
      "text/plain": [
       "DecisionTreeClassifier()"
      ]
     },
     "execution_count": 18,
     "metadata": {},
     "output_type": "execute_result"
    }
   ],
   "source": [
    "tree_classifier = tree.DecisionTreeClassifier()\n",
    "tree_classifier.fit(train_x, train_y)\n"
   ]
  },
  {
   "cell_type": "code",
   "execution_count": 19,
   "metadata": {},
   "outputs": [
    {
     "name": "stdout",
     "output_type": "stream",
     "text": [
      "47/48 0.9791666666666666\n"
     ]
    }
   ],
   "source": [
    "pred_y = tree_classifier.predict(test_x)\n",
    "\n",
    "accurate_count = 0\n",
    "for i in range(len(pred_y)):\n",
    "  if pred_y[i] == test_y[i]:\n",
    "    accurate_count += 1\n",
    "\n",
    "print(f'{accurate_count}/{len(pred_y)}', accurate_count/len(pred_y))\n",
    "\n"
   ]
  },
  {
   "cell_type": "code",
   "execution_count": 20,
   "metadata": {},
   "outputs": [
    {
     "name": "stdout",
     "output_type": "stream",
     "text": [
      "0.14433756729740643\n"
     ]
    }
   ],
   "source": [
    "from sklearn.metrics import mean_squared_error\n",
    "rmse = mean_squared_error(test_y, pred_y, squared=False)\n",
    "print(rmse)"
   ]
  }
 ],
 "metadata": {
  "interpreter": {
   "hash": "72c063d6035d88959ce5488d2496817d169a349dc57db45346e17e4ac662e96d"
  },
  "kernelspec": {
   "display_name": "Python 3.9.7 ('venv': venv)",
   "language": "python",
   "name": "python3"
  },
  "language_info": {
   "codemirror_mode": {
    "name": "ipython",
    "version": 3
   },
   "file_extension": ".py",
   "mimetype": "text/x-python",
   "name": "python",
   "nbconvert_exporter": "python",
   "pygments_lexer": "ipython3",
   "version": "3.9.7"
  },
  "orig_nbformat": 4
 },
 "nbformat": 4,
 "nbformat_minor": 2
}
