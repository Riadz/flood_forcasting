{
 "cells": [
  {
   "cell_type": "code",
   "execution_count": 24,
   "metadata": {},
   "outputs": [],
   "source": [
    "import math\n",
    "import random\n",
    "import torch\n",
    "import torch.nn as nn\n",
    "import torch.optim as optim\n",
    "import pandas as pd\n",
    "import numpy as np\n",
    "from timeit import default_timer as timer\n",
    "from utils import toTorchTensers, NormalizeData\n",
    "\n",
    "base_url = r'.'\n",
    "\n",
    "data_url = rf'{base_url}/data/Data.xlsx'\n",
    "data_egypt = pd.read_excel(data_url, sheet_name='Egypt')\n",
    "data_vietnam = pd.read_excel(data_url, sheet_name='Vietnam')\n",
    "\n",
    "device = 'cpu'\n",
    "# device = 'cuda' if torch.cuda.is_available() else 'cpu'\n",
    "device = torch.device(device)\n"
   ]
  },
  {
   "cell_type": "code",
   "execution_count": 25,
   "metadata": {},
   "outputs": [],
   "source": [
    "class AutoEncoder(nn.Module):\n",
    "  def __init__(self):\n",
    "    super().__init__()\n",
    "\n",
    "    self.opti = None\n",
    "    self.crit = nn.MSELoss()\n",
    "    self.encoder = nn.Sequential(\n",
    "        nn.Linear(12, 8),\n",
    "        nn.ReLU(),\n",
    "        nn.Linear(8, 6),\n",
    "        nn.ReLU(),\n",
    "        nn.Linear(6, 3),\n",
    "        # nn.Sigmoid(),\n",
    "    )\n",
    "    self.decoder = nn.Sequential(\n",
    "        nn.Linear(3, 6),\n",
    "        nn.ReLU(),\n",
    "        nn.Linear(6, 8),\n",
    "        nn.ReLU(),\n",
    "        nn.Linear(8, 12),\n",
    "        nn.Sigmoid(),\n",
    "    )\n",
    "\n",
    "    self.init()\n",
    "\n",
    "  def init(self):\n",
    "    self.opti = optim.Adam(self.parameters(), lr=1e-3, weight_decay=1e-5)\n",
    "\n",
    "  def forward(self, x):\n",
    "    encoded = self.encoder(x)\n",
    "    decoded = self.decoder(encoded)\n",
    "    return decoded\n",
    "\n",
    "  def fit(self, data_x, data_y, epoches=100):\n",
    "\n",
    "    for epoche in range(epoches):\n",
    "      epoche_start_time = timer()\n",
    "\n",
    "      for i in range(len(data_x)):\n",
    "        recon = self(data_x[i])\n",
    "        loss = self.crit(recon, data_y[i])\n",
    "\n",
    "        self.opti.zero_grad()\n",
    "        loss.backward()\n",
    "        self.opti.step()\n",
    "\n",
    "      epoche_exec_time = f\"{(timer() - epoche_start_time):.1f}\"\n",
    "      print(\n",
    "          f'epoche: {epoche}, loss: {loss.item():.8f}, execution time: {epoche_exec_time}s'\n",
    "      )"
   ]
  },
  {
   "cell_type": "code",
   "execution_count": 32,
   "metadata": {},
   "outputs": [],
   "source": [
    "# data\n",
    "DATA = data_egypt\n",
    "DATA = NormalizeData(DATA)\n",
    "DATA = DATA[DATA.Flood == 1]\n",
    "DATA = DATA.to_numpy()\n",
    "\n",
    "DATA_X = DATA[:, 1:]\n",
    "\n",
    "[DATA_X] = toTorchTensers(DATA_X, device=device)"
   ]
  },
  {
   "cell_type": "code",
   "execution_count": 33,
   "metadata": {},
   "outputs": [
    {
     "name": "stdout",
     "output_type": "stream",
     "text": [
      "model loaded\n"
     ]
    }
   ],
   "source": [
    "loaded_model = AutoEncoder().to(device)\n",
    "loaded_model.load_state_dict(\n",
    "    torch.load(f'{base_url}/models/X2_auto_model_06-04-2022_23-27-39.pt')\n",
    ")\n",
    "loaded_model.eval()\n",
    "print('model loaded')\n"
   ]
  },
  {
   "cell_type": "code",
   "execution_count": 36,
   "metadata": {},
   "outputs": [
    {
     "name": "stdout",
     "output_type": "stream",
     "text": [
      "[2, 1, 1, 2, 2, 1, 2, 1, 2, 2, 2, 2, 2, 2, 2, 2, 2, 1, 2, 1, 1, 2, 1, 1, 2, 1, 1, 1, 1, 1, 1, 2, 1, 1, 2, 1, 2, 1, 2, 2, 2, 2, 1, 2, 2, 1, 2, 2, 2, 2, 2, 2, 2, 2, 2, 2, 2, 1, 2, 2, 2, 2, 1, 1, 1, 1, 2, 1, 1, 1, 2, 1, 2, 1, 1, 2, 1, 1, 1, 1, 2, 1, 1, 1, 1, 2, 1, 2, 2, 2, 2, 2, 1, 1, 2, 1, 1, 1, 2, 2, 2, 1, 2, 1, 1, 1, 2, 2, 2, 1, 2, 1, 1, 1, 2, 1, 2, 1, 2, 1, 2, 1, 2, 1, 1, 2, 2, 1, 2, 1, 2, 2, 2, 2, 1, 2, 2, 2, 1, 2, 2, 1, 1, 2, 1, 1, 2, 1, 2, 1, 2, 2, 1, 1, 1, 2, 2, 1, 1, 2, 1, 1, 1, 1, 2, 1, 2, 1, 2, 2, 1, 2, 2, 1, 1, 1, 1, 1, 1, 1, 1, 1, 1, 2, 1, 1, 2, 1, 2, 2, 2, 1, 1, 2, 2, 1, 2, 2, 2, 1, 1, 2, 1, 1, 2, 2, 1, 2, 1, 1, 1, 1, 2, 2, 2, 1, 1, 2, 2, 2, 1, 2, 2, 2, 2, 1, 2, 2, 2, 1, 1, 1, 2, 1, 2, 2, 2, 1, 1, 1, 2, 1, 2, 2, 2, 1, 1, 1, 2, 1, 1, 2, 1, 2, 1, 1, 2, 2, 2, 2, 2, 1, 2, 1, 1, 1, 1, 2, 2, 2, 2, 2, 1, 2, 2, 2, 1, 1, 2, 1, 1, 1, 2, 2, 2, 1, 2, 1, 2, 2, 1, 1, 1, 1, 2, 1, 1, 1, 2, 2, 2, 2, 2, 1, 2, 2, 1, 2, 1, 1, 1, 1, 1, 1, 1, 1, 1, 2, 1, 1, 1, 1, 2, 2, 1, 1, 2, 2, 1, 1, 1, 1, 1, 2, 1, 1, 2, 2, 2, 2, 1, 2, 2, 1, 1, 2, 1, 1, 1, 2, 2, 1, 2, 1, 1, 2, 1, 2, 2, 1, 2, 2, 2, 1, 1, 2, 1, 1, 1, 1, 1, 1, 2, 1, 1, 1, 1, 1, 1, 2, 1, 1, 1, 1, 1, 1, 1, 1, 1, 1, 1, 2, 1, 1, 1, 1, 1, 2, 2, 2, 1, 2, 1, 2, 1, 1, 1, 1, 1, 1, 2, 2, 1, 1, 1, 2, 2, 1, 2, 1, 2, 2, 1, 1, 2, 2, 1, 1, 2, 1, 1, 1, 1, 1, 1, 1, 1, 1] "
     ]
    }
   ],
   "source": [
    "new_classes = []\n",
    "for input in DATA_X:\n",
    "  encoded = loaded_model.encoder(input)\n",
    "  encoded = (nn.Sigmoid())(encoded)\n",
    "  encoded = encoded.detach().cpu().numpy()\n",
    "  encoded = np.argmax(encoded) \n",
    "  new_classes.append(encoded)\n",
    "\n",
    "print(f'{new_classes}', end=' ')\n"
   ]
  },
  {
   "cell_type": "code",
   "execution_count": 72,
   "metadata": {},
   "outputs": [],
   "source": [
    "from datetime import datetime\n",
    "DATA = data_egypt\n",
    "DATA['NewFlood'] = np.zeros(DATA.shape[0])\n",
    "DATA = DATA.to_numpy()\n",
    "\n",
    "i = 0\n",
    "for ii in range(DATA.shape[0]):\n",
    "  if DATA[ii][0] == 1:\n",
    "    DATA[ii][-1] = new_classes[i]\n",
    "    i+=1\n",
    "\n",
    "DATA_TO_SAVE = data_egypt\n",
    "DATA_TO_SAVE['NewFlood'] = DATA[:, -1]\n",
    "#\n",
    "current_datetime = datetime.now().strftime(\"%d-%m-%Y_%H-%M-%S\")\n",
    "path = rf'{base_url}/data/New_Class_Data_{current_datetime}.xlsx'\n",
    "DATA_TO_SAVE.to_excel(path)\n",
    "\n",
    "print(f'✅ data saved to \"New_Class_Data_{current_datetime}.xlsx\"')"
   ]
  }
 ],
 "metadata": {
  "interpreter": {
   "hash": "72c063d6035d88959ce5488d2496817d169a349dc57db45346e17e4ac662e96d"
  },
  "kernelspec": {
   "display_name": "Python 3.9.7 ('venv': venv)",
   "language": "python",
   "name": "python3"
  },
  "language_info": {
   "codemirror_mode": {
    "name": "ipython",
    "version": 3
   },
   "file_extension": ".py",
   "mimetype": "text/x-python",
   "name": "python",
   "nbconvert_exporter": "python",
   "pygments_lexer": "ipython3",
   "version": "3.9.7"
  },
  "orig_nbformat": 4
 },
 "nbformat": 4,
 "nbformat_minor": 2
}
