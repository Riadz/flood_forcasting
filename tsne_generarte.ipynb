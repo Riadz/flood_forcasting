{
 "cells": [
  {
   "cell_type": "code",
   "execution_count": 2,
   "metadata": {},
   "outputs": [
    {
     "name": "stderr",
     "output_type": "stream",
     "text": [
      "usage: ipykernel_launcher.py [-h] [--xfile XFILE] [--yfile YFILE]\n",
      "                             [--cuda CUDA]\n",
      "ipykernel_launcher.py: error: unrecognized arguments: --ip=127.0.0.1 --stdin=9033 --control=9031 --hb=9030 --Session.signature_scheme=\"hmac-sha256\" --Session.key=b\"751152ad-94e4-41ab-a9d9-3727ef0afa79\" --shell=9032 --transport=\"tcp\" --iopub=9034 --f=C:\\Users\\Riad\\AppData\\Local\\Temp\\tmp-8440AQp1I9iW1Vz4.json\n"
     ]
    },
    {
     "ename": "SystemExit",
     "evalue": "2",
     "output_type": "error",
     "traceback": [
      "An exception has occurred, use %tb to see the full traceback.\n",
      "\u001b[1;31mSystemExit\u001b[0m\u001b[1;31m:\u001b[0m 2\n"
     ]
    }
   ],
   "source": [
    "import torch\n",
    "import pandas as pd\n",
    "import numpy as np\n",
    "from libs.tsne import tsne\n",
    "from utils import NormalizeData\n",
    "\n",
    "data_url = r'./data/Data.xlsx'\n",
    "data_egypt = pd.read_excel(data_url, sheet_name='Egypt')\n",
    "data_vietnam = pd.read_excel(data_url, sheet_name='Vietnam')\n",
    "\n",
    "DATA = data_vietnam\n",
    "DATA = NormalizeData(DATA)\n",
    "# DATA = DATA[DATA.Flood == 1]\n",
    "DATA = DATA.to_numpy()\n",
    "\n",
    "X = DATA[:, 1:]\n",
    "X = torch.Tensor(X)\n",
    "\n",
    "TSNE_EMB = tsne(X, 3, 12, 20.0)\n",
    "TSNE_EMB = TSNE_EMB.cpu().numpy()\n",
    "\n",
    "np.savetxt(\"./tsne/tsne_egypt__.csv\", TSNE_EMB, delimiter=\",\")"
   ]
  }
 ],
 "metadata": {
  "interpreter": {
   "hash": "72c063d6035d88959ce5488d2496817d169a349dc57db45346e17e4ac662e96d"
  },
  "kernelspec": {
   "display_name": "Python 3.9.7 ('venv': venv)",
   "language": "python",
   "name": "python3"
  },
  "language_info": {
   "codemirror_mode": {
    "name": "ipython",
    "version": 3
   },
   "file_extension": ".py",
   "mimetype": "text/x-python",
   "name": "python",
   "nbconvert_exporter": "python",
   "pygments_lexer": "ipython3",
   "version": "3.9.7"
  },
  "orig_nbformat": 4
 },
 "nbformat": 4,
 "nbformat_minor": 2
}
