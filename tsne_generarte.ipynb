{
 "cells": [
  {
   "cell_type": "code",
   "execution_count": null,
   "metadata": {},
   "outputs": [],
   "source": [
    "import torch\n",
    "import pandas as pd\n",
    "import numpy as np\n",
    "from libs.tsne import tsne\n",
    "from utils import NormalizeData\n",
    "\n",
    "data_url = r'./data/Data.xlsx'\n",
    "data_egypt = pd.read_excel(data_url, sheet_name='Egypt')\n",
    "data_vietnam = pd.read_excel(data_url, sheet_name='Vietnam')\n",
    "\n",
    "DATA = data_vietnam\n",
    "DATA = NormalizeData(DATA)\n",
    "DATA = DATA.to_numpy()\n",
    "\n",
    "X = DATA[:, 1:]\n",
    "X = torch.Tensor(X)\n",
    "\n",
    "TSNE_EMB = tsne(X, 3, 12, 20.0)\n",
    "TSNE_EMB = TSNE_EMB.cpu().numpy()\n",
    "\n",
    "np.savetxt(\"./tsne/tsne_egypt__.csv\", TSNE_EMB, delimiter=\",\")"
   ]
  }
 ],
 "metadata": {
  "interpreter": {
   "hash": "72c063d6035d88959ce5488d2496817d169a349dc57db45346e17e4ac662e96d"
  },
  "kernelspec": {
   "display_name": "Python 3.9.7 ('venv': venv)",
   "language": "python",
   "name": "python3"
  },
  "language_info": {
   "name": "python",
   "version": "3.9.7"
  },
  "orig_nbformat": 4
 },
 "nbformat": 4,
 "nbformat_minor": 2
}
