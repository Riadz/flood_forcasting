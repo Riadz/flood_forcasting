{
 "cells": [
  {
   "cell_type": "code",
   "execution_count": 1,
   "metadata": {},
   "outputs": [],
   "source": [
    "import math\n",
    "import torch\n",
    "import torch.nn as nn\n",
    "import torch.optim as optim\n",
    "import pandas as pd\n",
    "import numpy as np\n",
    "from timeit import default_timer as timer\n",
    "from utils import toTorchTensers, NormalizeData\n",
    "\n",
    "data_url = r'./data/Data.xlsx'\n",
    "data_egypt = pd.read_excel(data_url, sheet_name='Egypt')\n",
    "data_vietnam = pd.read_excel(data_url, sheet_name='Vietnam')\n"
   ]
  },
  {
   "cell_type": "code",
   "execution_count": 2,
   "metadata": {},
   "outputs": [],
   "source": [
    "# data\n",
    "DATA = data_egypt\n",
    "DATA = NormalizeData(DATA)\n",
    "DATA = DATA.to_numpy()\n",
    "\n",
    "np.random.seed(1)\n",
    "np.random.shuffle(DATA)\n",
    "split_point = math.floor(len(DATA) * 0.75)\n",
    "\n",
    "train_x, train_y = DATA[:split_point, 1:], DATA[:split_point, 0:1]\n",
    "test_x, test_y = DATA[split_point:, 1:], DATA[split_point:, 0:1]\n",
    "\n",
    "[train_x, train_y, test_x, test_y] = toTorchTensers(\n",
    "  train_x, train_y, test_x, test_y\n",
    ")\n"
   ]
  },
  {
   "cell_type": "code",
   "execution_count": 6,
   "metadata": {},
   "outputs": [],
   "source": [
    "# model\n",
    "class ForcastModel(nn.Module):\n",
    "  def __init__(self):\n",
    "    super().__init__()\n",
    "\n",
    "    self.opti = None\n",
    "    self.crit = nn.MSELoss()\n",
    "    self.pipeline = nn.Sequential(\n",
    "      nn.Linear(12, 48),\n",
    "      nn.ReLU(),\n",
    "      nn.Linear(48, 48),\n",
    "      nn.ReLU(),\n",
    "      nn.Linear(48, 24),\n",
    "      nn.ReLU(),\n",
    "      nn.Linear(24, 24),\n",
    "      nn.ReLU(),\n",
    "      nn.Linear(24, 24),\n",
    "      nn.ReLU(),\n",
    "      nn.Linear(24, 1),\n",
    "      nn.Sigmoid()\n",
    "    )\n",
    "\n",
    "  def forward(self, x):\n",
    "    return self.pipeline(x)\n",
    "  \n",
    "  def fit(self, data_x, data_y, epoches=100, batch_size=64):\n",
    "    if(not self.opti):\n",
    "      self.opti = optim.Adam(self.parameters(), lr=1e-3, weight_decay=1e-5)\n",
    "      \n",
    "    for epoche in range(epoches):\n",
    "      epoche_start_time = timer()\n",
    "\n",
    "      for i in range(len(data_x)):\n",
    "        recon = self(data_x[i])\n",
    "        loss = self.crit(recon, data_y[i])\n",
    "\n",
    "        self.opti.zero_grad()\n",
    "        loss.backward()\n",
    "        self.opti.step()\n",
    "\n",
    "      epoche_exec_time = f\"{(timer() - epoche_start_time):.1f}\"\n",
    "      print(\n",
    "          f'epoche: {epoche}, loss: {loss.item():.8f}, execution time: {epoche_exec_time}s'\n",
    "      )\n",
    "  \n",
    "  def test(self, data_x, data_y):\n",
    "    recon = self(data_x[10])\n",
    "    print(recon)"
   ]
  },
  {
   "cell_type": "code",
   "execution_count": 10,
   "metadata": {},
   "outputs": [
    {
     "name": "stdout",
     "output_type": "stream",
     "text": [
      "epoche: 0, loss: 0.00020235, execution time: 1.3s\n",
      "epoche: 1, loss: 0.00002691, execution time: 1.2s\n",
      "epoche: 2, loss: 0.00000751, execution time: 1.3s\n",
      "epoche: 3, loss: 0.00000428, execution time: 1.2s\n",
      "epoche: 4, loss: 0.00000119, execution time: 1.2s\n",
      "epoche: 5, loss: 0.00000034, execution time: 1.2s\n",
      "epoche: 6, loss: 0.00000011, execution time: 1.3s\n",
      "epoche: 7, loss: 0.00000004, execution time: 1.3s\n",
      "epoche: 8, loss: 0.00000001, execution time: 1.3s\n",
      "epoche: 9, loss: 0.00000000, execution time: 1.3s\n",
      "epoche: 10, loss: 0.00000000, execution time: 1.3s\n",
      "epoche: 11, loss: 0.00000000, execution time: 1.3s\n",
      "epoche: 12, loss: 0.00000000, execution time: 1.3s\n",
      "epoche: 13, loss: 0.00000000, execution time: 1.3s\n",
      "epoche: 14, loss: 0.00000000, execution time: 1.2s\n",
      "epoche: 15, loss: 0.00000000, execution time: 1.3s\n",
      "epoche: 16, loss: 0.00000000, execution time: 1.3s\n",
      "epoche: 17, loss: 0.00000000, execution time: 1.3s\n",
      "epoche: 18, loss: 0.00000000, execution time: 1.3s\n",
      "epoche: 19, loss: 0.00000000, execution time: 1.3s\n"
     ]
    }
   ],
   "source": [
    "# training\n",
    "model = ForcastModel()\n",
    "model.fit(train_x, train_y, epoches=20)"
   ]
  },
  {
   "cell_type": "code",
   "execution_count": 12,
   "metadata": {},
   "outputs": [
    {
     "name": "stdout",
     "output_type": "stream",
     "text": [
      "tensor([0.5605], grad_fn=<SigmoidBackward0>)\n"
     ]
    }
   ],
   "source": [
    "# testing\n",
    "model.test(test_x, test_y)\n"
   ]
  },
  {
   "cell_type": "code",
   "execution_count": null,
   "metadata": {},
   "outputs": [],
   "source": [
    "for input in test_x:\n",
    "    recon = model(input)\n",
    "    loss = crit(recon, input)\n",
    "    print(f'{i} loss: {loss.item():.4f}')\n"
   ]
  }
 ],
 "metadata": {
  "interpreter": {
   "hash": "72c063d6035d88959ce5488d2496817d169a349dc57db45346e17e4ac662e96d"
  },
  "kernelspec": {
   "display_name": "Python 3.9.7 ('venv': venv)",
   "language": "python",
   "name": "python3"
  },
  "language_info": {
   "codemirror_mode": {
    "name": "ipython",
    "version": 3
   },
   "file_extension": ".py",
   "mimetype": "text/x-python",
   "name": "python",
   "nbconvert_exporter": "python",
   "pygments_lexer": "ipython3",
   "version": "3.9.7"
  },
  "orig_nbformat": 4
 },
 "nbformat": 4,
 "nbformat_minor": 2
}
