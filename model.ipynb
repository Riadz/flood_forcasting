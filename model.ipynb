{
 "cells": [
  {
   "cell_type": "code",
   "execution_count": 8,
   "metadata": {},
   "outputs": [],
   "source": [
    "import math\n",
    "import torch\n",
    "import pandas as pd\n",
    "import numpy as np\n",
    "from utils import toTorchTensers, NormalizeData\n",
    "from Models import ForcastModel\n",
    "\n",
    "data_url = r'./data/Data.xlsx'\n",
    "data_egypt = pd.read_excel(data_url, sheet_name='Egypt')\n",
    "data_vietnam = pd.read_excel(data_url, sheet_name='Vietnam')"
   ]
  },
  {
   "cell_type": "code",
   "execution_count": 9,
   "metadata": {},
   "outputs": [],
   "source": [
    "# data\n",
    "DATA = data_egypt\n",
    "DATA = NormalizeData(DATA)\n",
    "DATA = DATA.to_numpy()\n",
    "\n",
    "np.random.seed(1)\n",
    "np.random.shuffle(DATA)\n",
    "split_point = math.floor(len(DATA) * 0.75)\n",
    "\n",
    "train_x, train_y = DATA[:split_point, 1:], DATA[:split_point, 0:1]\n",
    "test_x, test_y = DATA[split_point:, 1:], DATA[split_point:, 0:1]\n",
    "\n",
    "[train_x, train_y, test_x, test_y] = toTorchTensers(\n",
    "  train_x, train_y, test_x, test_y\n",
    ")"
   ]
  },
  {
   "cell_type": "code",
   "execution_count": 10,
   "metadata": {},
   "outputs": [
    {
     "name": "stdout",
     "output_type": "stream",
     "text": [
      "epoche: 0, loss: 0.00025065, execution time: 1.0s\n",
      "epoche: 1, loss: 0.00003880, execution time: 1.1s\n",
      "epoche: 2, loss: 0.00001137, execution time: 1.1s\n",
      "epoche: 3, loss: 0.00000314, execution time: 1.1s\n",
      "epoche: 4, loss: 0.00000103, execution time: 1.1s\n",
      "epoche: 5, loss: 0.00000026, execution time: 1.1s\n",
      "epoche: 6, loss: 0.00000002, execution time: 1.1s\n",
      "epoche: 7, loss: 0.00000001, execution time: 1.1s\n",
      "epoche: 8, loss: 0.00000000, execution time: 1.1s\n",
      "epoche: 9, loss: 0.00000000, execution time: 1.1s\n",
      "epoche: 10, loss: 0.00000000, execution time: 1.1s\n",
      "epoche: 11, loss: 0.00000000, execution time: 1.1s\n",
      "epoche: 12, loss: 0.00000000, execution time: 1.1s\n",
      "epoche: 13, loss: 0.00000000, execution time: 1.1s\n",
      "epoche: 14, loss: 0.00000000, execution time: 1.1s\n",
      "epoche: 15, loss: 0.00000000, execution time: 1.1s\n",
      "epoche: 16, loss: 0.00000000, execution time: 1.1s\n",
      "epoche: 17, loss: 0.00000000, execution time: 1.0s\n",
      "epoche: 18, loss: 0.00000000, execution time: 1.0s\n",
      "epoche: 19, loss: 0.00000000, execution time: 1.1s\n",
      "epoche: 20, loss: 0.00000000, execution time: 1.1s\n",
      "epoche: 21, loss: 0.00000000, execution time: 1.0s\n",
      "epoche: 22, loss: 0.00000000, execution time: 1.1s\n",
      "epoche: 23, loss: 0.00000000, execution time: 1.0s\n",
      "epoche: 24, loss: 0.00000000, execution time: 1.1s\n",
      "epoche: 25, loss: 0.00000000, execution time: 1.1s\n",
      "epoche: 26, loss: 0.00000000, execution time: 1.1s\n",
      "epoche: 27, loss: 0.00000000, execution time: 1.1s\n",
      "epoche: 28, loss: 0.00000000, execution time: 1.1s\n",
      "epoche: 29, loss: 0.00000000, execution time: 1.1s\n",
      "epoche: 30, loss: 0.00000000, execution time: 1.1s\n",
      "epoche: 31, loss: 0.00000000, execution time: 1.1s\n",
      "epoche: 32, loss: 0.00000000, execution time: 1.1s\n",
      "epoche: 33, loss: 0.00000000, execution time: 1.1s\n",
      "epoche: 34, loss: 0.00000000, execution time: 1.1s\n",
      "epoche: 35, loss: 0.00000000, execution time: 1.1s\n",
      "epoche: 36, loss: 0.00000000, execution time: 1.1s\n",
      "epoche: 37, loss: 0.00000000, execution time: 1.2s\n",
      "epoche: 38, loss: 0.00000000, execution time: 1.1s\n",
      "epoche: 39, loss: 0.00000000, execution time: 1.1s\n",
      "epoche: 40, loss: 0.00000000, execution time: 1.0s\n",
      "epoche: 41, loss: 0.00000000, execution time: 1.0s\n",
      "epoche: 42, loss: 0.00000000, execution time: 1.0s\n",
      "epoche: 43, loss: 0.00000000, execution time: 1.0s\n",
      "epoche: 44, loss: 0.00000000, execution time: 1.0s\n",
      "epoche: 45, loss: 0.00000000, execution time: 1.0s\n",
      "epoche: 46, loss: 0.00000000, execution time: 1.1s\n",
      "epoche: 47, loss: 0.00000000, execution time: 1.2s\n",
      "epoche: 48, loss: 0.00000000, execution time: 1.3s\n",
      "epoche: 49, loss: 0.00000000, execution time: 1.1s\n",
      "✅ training ended ,final loss: 0.00000000, time: 53.9s\n"
     ]
    }
   ],
   "source": [
    "# training\n",
    "model = ForcastModel()\n",
    "model.fit(train_x, train_y, epoches=50)"
   ]
  },
  {
   "cell_type": "code",
   "execution_count": 13,
   "metadata": {},
   "outputs": [
    {
     "name": "stdout",
     "output_type": "stream",
     "text": [
      "loss: 0.0000, acc: 0.8919\n",
      "loss: 0.0000, acc: 0.9322\n"
     ]
    }
   ],
   "source": [
    "# testing\n",
    "model.test(test_x, test_y)\n",
    "model.test(train_x, train_y)\n"
   ]
  }
 ],
 "metadata": {
  "interpreter": {
   "hash": "72c063d6035d88959ce5488d2496817d169a349dc57db45346e17e4ac662e96d"
  },
  "kernelspec": {
   "display_name": "Python 3.9.7 ('venv': venv)",
   "language": "python",
   "name": "python3"
  },
  "language_info": {
   "codemirror_mode": {
    "name": "ipython",
    "version": 3
   },
   "file_extension": ".py",
   "mimetype": "text/x-python",
   "name": "python",
   "nbconvert_exporter": "python",
   "pygments_lexer": "ipython3",
   "version": "3.9.7"
  },
  "orig_nbformat": 4
 },
 "nbformat": 4,
 "nbformat_minor": 2
}
