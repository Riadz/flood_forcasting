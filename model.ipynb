{
 "cells": [
  {
   "cell_type": "code",
   "execution_count": 15,
   "metadata": {},
   "outputs": [],
   "source": [
    "import math\n",
    "import torch\n",
    "import pandas as pd\n",
    "import numpy as np\n",
    "from utils import toTorchTensers, NormalizeData\n",
    "from Models import ForcastModel\n",
    "\n",
    "data_url = r'./data/Data.xlsx'\n",
    "data_egypt = pd.read_excel(data_url, sheet_name='Egypt')\n",
    "data_vietnam = pd.read_excel(data_url, sheet_name='Vietnam')\n",
    "data_algeria = pd.read_excel(data_url, sheet_name='Algeria')\n"
   ]
  },
  {
   "cell_type": "code",
   "execution_count": 16,
   "metadata": {},
   "outputs": [],
   "source": [
    "# data\n",
    "DATA = data_algeria\n",
    "DATA = NormalizeData(DATA)\n",
    "DATA = DATA.to_numpy()\n",
    "\n",
    "np.random.seed(1)\n",
    "np.random.shuffle(DATA)\n",
    "split_point = math.floor(len(DATA) * 0.7)\n",
    "\n",
    "train_x, train_y = DATA[:split_point, 1:], DATA[:split_point, 0:1]\n",
    "test_x, test_y = DATA[split_point:, 1:], DATA[split_point:, 0:1]\n",
    "\n",
    "[train_x, train_y, test_x, test_y] = toTorchTensers(\n",
    "  train_x, train_y, test_x, test_y\n",
    ")"
   ]
  },
  {
   "cell_type": "code",
   "execution_count": 19,
   "metadata": {},
   "outputs": [
    {
     "name": "stdout",
     "output_type": "stream",
     "text": [
      "epoche: 0, loss: 0.070725962520, execution time: 1.2s\n",
      "epoche: 1, loss: 0.064835660160, execution time: 1.1s\n",
      "epoche: 2, loss: 0.048411473632, execution time: 1.3s\n",
      "epoche: 3, loss: 0.048727184534, execution time: 1.4s\n",
      "epoche: 4, loss: 0.045002479106, execution time: 1.4s\n",
      "epoche: 5, loss: 0.037920463830, execution time: 1.5s\n",
      "epoche: 6, loss: 0.039159242064, execution time: 1.4s\n",
      "epoche: 7, loss: 0.034296669066, execution time: 1.5s\n",
      "epoche: 8, loss: 0.027246804908, execution time: 1.3s\n",
      "epoche: 9, loss: 0.026015575975, execution time: 1.3s\n",
      "epoche: 10, loss: 0.023063939065, execution time: 1.3s\n",
      "epoche: 11, loss: 0.021132785827, execution time: 1.4s\n",
      "epoche: 12, loss: 0.017377115786, execution time: 1.3s\n",
      "epoche: 13, loss: 0.017528695986, execution time: 1.5s\n",
      "epoche: 14, loss: 0.014077416621, execution time: 1.4s\n",
      "epoche: 15, loss: 0.015081785619, execution time: 1.4s\n",
      "epoche: 16, loss: 0.012568188831, execution time: 1.4s\n",
      "epoche: 17, loss: 0.011716531590, execution time: 1.4s\n",
      "epoche: 18, loss: 0.008084177971, execution time: 1.5s\n",
      "epoche: 19, loss: 0.010406443849, execution time: 1.6s\n",
      "epoche: 20, loss: 0.009698964655, execution time: 1.5s\n",
      "epoche: 21, loss: 0.006476144306, execution time: 1.5s\n",
      "epoche: 22, loss: 0.009664972313, execution time: 1.4s\n",
      "epoche: 23, loss: 0.009246366099, execution time: 1.5s\n",
      "epoche: 24, loss: 0.004579251632, execution time: 1.3s\n",
      "epoche: 25, loss: 0.004777391907, execution time: 1.3s\n",
      "epoche: 26, loss: 0.017308166251, execution time: 1.3s\n",
      "epoche: 27, loss: 0.009143522009, execution time: 1.1s\n",
      "epoche: 28, loss: 0.005683999974, execution time: 1.5s\n",
      "epoche: 29, loss: 0.008558229543, execution time: 1.7s\n",
      "epoche: 30, loss: 0.009943044744, execution time: 2.3s\n",
      "epoche: 31, loss: 0.010962420143, execution time: 1.7s\n",
      "epoche: 32, loss: 0.013643175364, execution time: 1.5s\n",
      "epoche: 33, loss: 0.013417169452, execution time: 1.7s\n",
      "epoche: 34, loss: 0.008011009544, execution time: 1.4s\n",
      "epoche: 35, loss: 0.008197760209, execution time: 1.2s\n",
      "epoche: 36, loss: 0.003975276370, execution time: 1.1s\n",
      "epoche: 37, loss: 0.010458666831, execution time: 1.3s\n",
      "epoche: 38, loss: 0.006647379603, execution time: 1.6s\n",
      "epoche: 39, loss: 0.001855421811, execution time: 1.6s\n",
      "epoche: 40, loss: 0.008050738834, execution time: 2.1s\n",
      "epoche: 41, loss: 0.006385042798, execution time: 1.7s\n",
      "epoche: 42, loss: 0.005081612151, execution time: 1.5s\n",
      "epoche: 43, loss: 0.005774818361, execution time: 1.4s\n",
      "epoche: 44, loss: 0.003106269753, execution time: 1.3s\n",
      "epoche: 45, loss: 0.003650659928, execution time: 1.3s\n",
      "epoche: 46, loss: 0.003779033897, execution time: 1.4s\n",
      "epoche: 47, loss: 0.007337734569, execution time: 1.4s\n",
      "epoche: 48, loss: 0.000275038241, execution time: 1.4s\n",
      "epoche: 49, loss: 0.000591639546, execution time: 1.4s\n",
      "epoche: 50, loss: 0.002339345869, execution time: 1.3s\n",
      "epoche: 51, loss: 0.002590844641, execution time: 1.5s\n",
      "epoche: 52, loss: 0.000266694318, execution time: 1.5s\n",
      "epoche: 53, loss: 0.000050166338, execution time: 1.5s\n",
      "epoche: 54, loss: 0.001941225142, execution time: 1.4s\n",
      "epoche: 55, loss: 0.000447271770, execution time: 1.5s\n",
      "epoche: 56, loss: 0.000200096678, execution time: 1.2s\n",
      "epoche: 57, loss: 0.001211271854, execution time: 1.2s\n",
      "epoche: 58, loss: 0.000518187357, execution time: 1.5s\n",
      "epoche: 59, loss: 0.002027459210, execution time: 1.4s\n",
      "epoche: 60, loss: 0.000086540887, execution time: 1.1s\n",
      "epoche: 61, loss: 0.000368085050, execution time: 1.3s\n",
      "epoche: 62, loss: 0.000023142748, execution time: 1.1s\n",
      "epoche: 63, loss: 0.000019006138, execution time: 1.2s\n",
      "epoche: 64, loss: 0.000044781962, execution time: 1.3s\n",
      "epoche: 65, loss: 0.000036003366, execution time: 1.1s\n",
      "epoche: 66, loss: 0.000160638680, execution time: 1.1s\n",
      "epoche: 67, loss: 0.000028249920, execution time: 1.1s\n",
      "epoche: 68, loss: 0.000028399014, execution time: 1.3s\n",
      "epoche: 69, loss: 0.000000991410, execution time: 1.3s\n",
      "epoche: 70, loss: 0.000011564242, execution time: 1.3s\n",
      "epoche: 71, loss: 0.000006165340, execution time: 1.3s\n",
      "epoche: 72, loss: 0.000013165091, execution time: 1.1s\n",
      "epoche: 73, loss: 0.000014893594, execution time: 1.2s\n",
      "epoche: 74, loss: 0.000005194310, execution time: 1.2s\n",
      "epoche: 75, loss: 0.000001244608, execution time: 1.2s\n",
      "epoche: 76, loss: 0.000002502431, execution time: 1.3s\n",
      "epoche: 77, loss: 0.000087900240, execution time: 1.5s\n",
      "epoche: 78, loss: 0.000015519265, execution time: 1.2s\n",
      "epoche: 79, loss: 0.000005024822, execution time: 1.2s\n",
      "epoche: 80, loss: 0.000006414673, execution time: 1.2s\n",
      "epoche: 81, loss: 0.000484577788, execution time: 1.3s\n",
      "epoche: 82, loss: 0.000001158638, execution time: 1.3s\n",
      "epoche: 83, loss: 0.001175621292, execution time: 1.2s\n",
      "epoche: 84, loss: 0.000030397248, execution time: 1.2s\n",
      "epoche: 85, loss: 0.000002606838, execution time: 1.3s\n",
      "epoche: 86, loss: 0.000000173735, execution time: 1.3s\n",
      "epoche: 87, loss: 0.000003351888, execution time: 1.3s\n",
      "epoche: 88, loss: 0.000002952905, execution time: 1.3s\n",
      "epoche: 89, loss: 0.000000415540, execution time: 1.3s\n",
      "epoche: 90, loss: 0.000001385359, execution time: 1.4s\n",
      "epoche: 91, loss: 0.000000032038, execution time: 1.1s\n",
      "epoche: 92, loss: 0.000020429852, execution time: 1.2s\n",
      "epoche: 93, loss: 0.000018453609, execution time: 1.1s\n",
      "epoche: 94, loss: 0.000000293360, execution time: 1.2s\n",
      "epoche: 95, loss: 0.000000760100, execution time: 1.2s\n",
      "epoche: 96, loss: 0.000000346796, execution time: 1.3s\n",
      "epoche: 97, loss: 0.000000966992, execution time: 1.4s\n",
      "epoche: 98, loss: 0.000353015086, execution time: 1.3s\n",
      "epoche: 99, loss: 0.000001245672, execution time: 1.2s\n",
      "✅ training ended ,final loss: 0.000001245672, time: 135.9s\n"
     ]
    }
   ],
   "source": [
    "# training\n",
    "model = ForcastModel()\n",
    "model.fit(train_x, train_y, epoches=100)"
   ]
  },
  {
   "cell_type": "code",
   "execution_count": 20,
   "metadata": {},
   "outputs": [
    {
     "name": "stdout",
     "output_type": "stream",
     "text": [
      "ACC: 0.837037037037037\n",
      "RMSE: 0.16296296296296298\n",
      "[[114  30]\n",
      " [ 14 112]]\n"
     ]
    }
   ],
   "source": [
    "# testing\n",
    "model.test(test_x, test_y)\n"
   ]
  }
 ],
 "metadata": {
  "interpreter": {
   "hash": "1976867cd62414db8ace64dc501f8798f14b83cdf892523235e04596c80039b8"
  },
  "kernelspec": {
   "display_name": "Python 3.9.7 ('venv': venv)",
   "language": "python",
   "name": "python3"
  },
  "language_info": {
   "codemirror_mode": {
    "name": "ipython",
    "version": 3
   },
   "file_extension": ".py",
   "mimetype": "text/x-python",
   "name": "python",
   "nbconvert_exporter": "python",
   "pygments_lexer": "ipython3",
   "version": "3.9.7"
  },
  "orig_nbformat": 4
 },
 "nbformat": 4,
 "nbformat_minor": 2
}
