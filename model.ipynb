{
 "cells": [
  {
   "cell_type": "code",
   "execution_count": 1,
   "metadata": {},
   "outputs": [],
   "source": [
    "import math\n",
    "import torch\n",
    "import pandas as pd\n",
    "import numpy as np\n",
    "from utils import toTorchTensers, NormalizeData\n",
    "from Models import ForcastModel\n",
    "\n",
    "data_url = r'./data/Data.xlsx'\n",
    "data_egypt = pd.read_excel(data_url, sheet_name='Egypt')\n",
    "data_vietnam = pd.read_excel(data_url, sheet_name='Vietnam')"
   ]
  },
  {
   "cell_type": "code",
   "execution_count": 2,
   "metadata": {},
   "outputs": [],
   "source": [
    "# data\n",
    "DATA = data_vietnam\n",
    "DATA = NormalizeData(DATA)\n",
    "DATA = DATA.to_numpy()\n",
    "\n",
    "np.random.seed(1)\n",
    "np.random.shuffle(DATA)\n",
    "split_point = math.floor(len(DATA) * 0.75)\n",
    "\n",
    "train_x, train_y = DATA[:split_point, 1:], DATA[:split_point, 0:1]\n",
    "test_x, test_y = DATA[split_point:, 1:], DATA[split_point:, 0:1]\n",
    "\n",
    "[train_x, train_y, test_x, test_y] = toTorchTensers(\n",
    "  train_x, train_y, test_x, test_y\n",
    ")"
   ]
  },
  {
   "cell_type": "code",
   "execution_count": 3,
   "metadata": {},
   "outputs": [
    {
     "name": "stdout",
     "output_type": "stream",
     "text": [
      "epoche: 0, loss: 0.008038796484, execution time: 1.9s\n",
      "epoche: 1, loss: 0.009492115118, execution time: 2.0s\n",
      "epoche: 2, loss: 0.011160261929, execution time: 2.2s\n",
      "epoche: 3, loss: 0.013405173086, execution time: 2.2s\n",
      "epoche: 4, loss: 0.023291777819, execution time: 2.1s\n",
      "epoche: 5, loss: 0.011517111212, execution time: 1.9s\n",
      "epoche: 6, loss: 0.001884676749, execution time: 2.1s\n",
      "epoche: 7, loss: 0.011132572778, execution time: 2.2s\n",
      "epoche: 8, loss: 0.015662379563, execution time: 2.1s\n",
      "epoche: 9, loss: 0.003136780579, execution time: 2.4s\n",
      "epoche: 10, loss: 0.011633709073, execution time: 2.1s\n",
      "epoche: 11, loss: 0.001795355114, execution time: 2.1s\n",
      "epoche: 12, loss: 0.004339585546, execution time: 2.1s\n",
      "epoche: 13, loss: 0.003805086482, execution time: 2.1s\n",
      "epoche: 14, loss: 0.003371391678, execution time: 2.3s\n",
      "epoche: 15, loss: 0.002362407977, execution time: 2.2s\n",
      "epoche: 16, loss: 0.002523558447, execution time: 2.4s\n",
      "epoche: 17, loss: 0.003118613269, execution time: 2.2s\n",
      "epoche: 18, loss: 0.001155431266, execution time: 2.2s\n",
      "epoche: 19, loss: 0.003876875620, execution time: 2.2s\n",
      "epoche: 20, loss: 0.002833177801, execution time: 2.2s\n",
      "epoche: 21, loss: 0.000915286888, execution time: 2.2s\n",
      "epoche: 22, loss: 0.000499637681, execution time: 2.0s\n",
      "epoche: 23, loss: 0.003192137461, execution time: 1.9s\n",
      "epoche: 24, loss: 0.002618380124, execution time: 2.1s\n",
      "epoche: 25, loss: 0.001160440966, execution time: 2.1s\n",
      "epoche: 26, loss: 0.004259076901, execution time: 2.4s\n",
      "epoche: 27, loss: 0.000425038917, execution time: 3.5s\n",
      "epoche: 28, loss: 0.000013039094, execution time: 2.2s\n",
      "epoche: 29, loss: 0.001007625018, execution time: 2.1s\n",
      "epoche: 30, loss: 0.000116788193, execution time: 2.1s\n",
      "epoche: 31, loss: 0.000000159243, execution time: 2.3s\n",
      "epoche: 32, loss: 0.001189686824, execution time: 2.3s\n",
      "epoche: 33, loss: 0.000000674913, execution time: 2.3s\n",
      "epoche: 34, loss: 0.000000011080, execution time: 2.3s\n",
      "epoche: 35, loss: 0.000402425241, execution time: 2.2s\n",
      "epoche: 36, loss: 0.000069752612, execution time: 2.2s\n",
      "epoche: 37, loss: 0.000000295560, execution time: 2.2s\n",
      "epoche: 38, loss: 0.000000150518, execution time: 2.2s\n",
      "epoche: 39, loss: 0.000001648664, execution time: 2.2s\n",
      "epoche: 40, loss: 0.000000001187, execution time: 2.1s\n",
      "epoche: 41, loss: 0.000000125437, execution time: 2.0s\n",
      "epoche: 42, loss: 0.000000190207, execution time: 2.1s\n",
      "epoche: 43, loss: 0.000000240987, execution time: 2.4s\n",
      "epoche: 44, loss: 0.000000000002, execution time: 2.1s\n",
      "epoche: 45, loss: 0.000001266515, execution time: 2.2s\n",
      "epoche: 46, loss: 0.000000000033, execution time: 2.4s\n",
      "epoche: 47, loss: 0.000001835035, execution time: 2.1s\n",
      "epoche: 48, loss: 0.000000371511, execution time: 2.1s\n",
      "epoche: 49, loss: 0.000000000000, execution time: 2.0s\n",
      "✅ training ended ,final loss: 0.000000000000, time: 109.8s\n"
     ]
    }
   ],
   "source": [
    "# training\n",
    "model = ForcastModel()\n",
    "model.fit(train_x, train_y, epoches=50)"
   ]
  },
  {
   "cell_type": "code",
   "execution_count": 8,
   "metadata": {},
   "outputs": [
    {
     "name": "stdout",
     "output_type": "stream",
     "text": [
      "loss: 0.0000, acc: 0.9785\n",
      "loss: 0.0000, acc: 0.9809\n"
     ]
    }
   ],
   "source": [
    "# testing\n",
    "model.test(test_x, test_y, bar=0.2)\n",
    "model.test(train_x, train_y, bar=0.2)\n"
   ]
  }
 ],
 "metadata": {
  "interpreter": {
   "hash": "72c063d6035d88959ce5488d2496817d169a349dc57db45346e17e4ac662e96d"
  },
  "kernelspec": {
   "display_name": "Python 3.9.7 ('venv': venv)",
   "language": "python",
   "name": "python3"
  },
  "language_info": {
   "codemirror_mode": {
    "name": "ipython",
    "version": 3
   },
   "file_extension": ".py",
   "mimetype": "text/x-python",
   "name": "python",
   "nbconvert_exporter": "python",
   "pygments_lexer": "ipython3",
   "version": "3.9.7"
  },
  "orig_nbformat": 4
 },
 "nbformat": 4,
 "nbformat_minor": 2
}
