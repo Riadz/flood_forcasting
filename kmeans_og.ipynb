{
 "cells": [
  {
   "cell_type": "code",
   "execution_count": 2,
   "metadata": {},
   "outputs": [],
   "source": [
    "import torch\n",
    "import math\n",
    "from kmeans_pytorch import kmeans\n",
    "import pandas as pd\n",
    "import numpy as np\n",
    "import matplotlib.pyplot as plt\n",
    "from utils import toTorchTensers, NormalizeData\n",
    "\n",
    "base_url = r'.'\n",
    "\n",
    "data_url = r'./data/Data.xlsx'\n",
    "data_egypt = pd.read_excel(data_url, sheet_name='Egypt')\n",
    "data_vietnam = pd.read_excel(data_url, sheet_name='Vietnam')"
   ]
  },
  {
   "cell_type": "code",
   "execution_count": 61,
   "metadata": {},
   "outputs": [
    {
     "data": {
      "text/plain": [
       "torch.Size([448, 12])"
      ]
     },
     "execution_count": 61,
     "metadata": {},
     "output_type": "execute_result"
    }
   ],
   "source": [
    "# data\n",
    "DATA = data_egypt\n",
    "DATA = NormalizeData(DATA)\n",
    "DATA = DATA[DATA['Flood'] == 0]\n",
    "DATA = DATA.to_numpy()\n",
    "\n",
    "[X] = toTorchTensers(DATA[:, 1:])\n",
    "X.shape"
   ]
  },
  {
   "cell_type": "code",
   "execution_count": 73,
   "metadata": {},
   "outputs": [
    {
     "name": "stdout",
     "output_type": "stream",
     "text": [
      "running k-means on cpu..\n"
     ]
    },
    {
     "name": "stderr",
     "output_type": "stream",
     "text": [
      "[running kmeans]: 11it [00:00, 549.98it/s, center_shift=0.000000, iteration=11, tol=0.000100]"
     ]
    },
    {
     "name": "stdout",
     "output_type": "stream",
     "text": [
      "[1 1 1 1 1 1 1 1 1 1 1 1 1 1 1 1 1 1 1 0 0 0 1 0 1 1 1 1 0 1 1 1 0 1 1 1 1\n",
      " 0 0 0 1 1 1 1 1 0 1 1 1 1 1 1 1 1 1 1 1 0 1 1 0 1 0 1 1 0 1 1 1 1 1 1 1 1\n",
      " 1 0 0 1 1 1 1 0 1 1 1 1 0 0 1 1 1 1 0 0 0 1 1 1 1 1 1 1 0 1 1 1 0 1 1 1 0\n",
      " 1 1 1 1 1 1 1 1 1 0 1 1 1 1 0 1 1 0 0 1 0 0 1 0 0 0 1 0 1 0 1 0 1 1 1 1 1\n",
      " 1 1 1 1 0 0 1 1 0 0 0 1 1 1 1 0 0 1 1 1 0 1 1 0 1 1 1 1 1 0 1 1 0 0 1 0 1\n",
      " 0 0 1 1 1 0 0 1 0 0 1 1 1 1 0 1 0 0 1 0 1 0 0 0 1 0 1 1 1 1 1 1 1 1 1 1 1\n",
      " 1 0 1 1 1 1 1 0 1 1 1 1 1 1 1 1 1 1 1 1 1 1 0 1 1 1 1 1 1 0 0 1 1 1 1 0 0\n",
      " 1 1 0 0 0 0 1 0 1 1 1 0 1 1 1 1 1 1 0 1 1 0 1 0 1 1 0 1 1 0 1 1 1 0 1 1 1\n",
      " 1 0 1 1 1 0 1 1 1 1 1 0 1 1 1 1 1 0 1 1 1 0 0 1 0 1 1 1 1 1 1 1 1 1 1 1 0\n",
      " 1 0 1 1 1 1 1 1 1 1 1 1 1 1 1 0 0 0 1 1 1 1 1 1 1 1 1 1 1 1 1 1 1 1 1 1 1\n",
      " 1 1 1 1 1 1 1 1 1 0 1 1 1 1 1 1 1 1 1 1 1 1 1 1 1 1 1 1 1 1 1 1 1 1 1 1 1\n",
      " 1 1 1 0 1 1 0 0 1 0 1 1 1 1 1 1 1 0 1 1 1 1 1 1 1 1 1 0 0 1 0 1 0 1 0 1 0\n",
      " 1 1 1 1] 107 341\n"
     ]
    },
    {
     "name": "stderr",
     "output_type": "stream",
     "text": [
      "\n"
     ]
    }
   ],
   "source": [
    "cluster_x, cluster_centers = kmeans(\n",
    "    X=X, num_clusters=2, distance='cosine'\n",
    ")\n",
    "\n",
    "cluster_x = cluster_x.numpy()\n",
    "# cluster_x +=2\n",
    "print(cluster_x, (cluster_x == 0).sum(), (cluster_x == 1).sum())\n"
   ]
  },
  {
   "cell_type": "code",
   "execution_count": 74,
   "metadata": {},
   "outputs": [
    {
     "name": "stdout",
     "output_type": "stream",
     "text": [
      "(448, 13) [[1.00000000e+00 9.69549651e-02 9.14937710e-01 ... 9.03477520e-01\n",
      "  0.00000000e+00 1.63231348e-01]\n",
      " [1.00000000e+00 2.73340576e-01 9.14937710e-01 ... 7.48860858e-01\n",
      "  0.00000000e+00 2.23599543e-01]\n",
      " [1.00000000e+00 6.21134655e-01 8.98340263e-01 ... 9.43527543e-01\n",
      "  2.04765562e-04 1.75423227e-01]\n",
      " ...\n",
      " [1.00000000e+00 0.00000000e+00 6.39004105e-01 ... 9.76445554e-01\n",
      "  0.00000000e+00 8.50807715e-02]\n",
      " [1.00000000e+00 0.00000000e+00 0.00000000e+00 ... 9.12400629e-01\n",
      "  1.36341685e-04 2.00946001e-01]\n",
      " [1.00000000e+00 0.00000000e+00 6.39004105e-01 ... 9.80683564e-01\n",
      "  0.00000000e+00 7.54428304e-02]]\n"
     ]
    }
   ],
   "source": [
    "NEW_DATA = np.insert(DATA[:, 1:], -0, cluster_x, axis=1)\n",
    "print(NEW_DATA.shape, NEW_DATA)"
   ]
  },
  {
   "cell_type": "code",
   "execution_count": 75,
   "metadata": {},
   "outputs": [
    {
     "name": "stdout",
     "output_type": "stream",
     "text": [
      "saved as ./data/clusters_derm_21-04_04-55-08.csv\n"
     ]
    }
   ],
   "source": [
    "from datetime import datetime\n",
    "current_datetime = datetime.now().strftime(\"%d-%m_%H-%M-%S\")\n",
    "path = rf'{base_url}/data/clusters_derm_{current_datetime}.csv'\n",
    "np.savetxt(path, NEW_DATA, delimiter=\",\")\n",
    "\n",
    "print(\"saved as\", path)"
   ]
  }
 ],
 "metadata": {
  "interpreter": {
   "hash": "72c063d6035d88959ce5488d2496817d169a349dc57db45346e17e4ac662e96d"
  },
  "kernelspec": {
   "display_name": "Python 3.9.7 ('venv': venv)",
   "language": "python",
   "name": "python3"
  },
  "language_info": {
   "codemirror_mode": {
    "name": "ipython",
    "version": 3
   },
   "file_extension": ".py",
   "mimetype": "text/x-python",
   "name": "python",
   "nbconvert_exporter": "python",
   "pygments_lexer": "ipython3",
   "version": "3.9.7"
  },
  "orig_nbformat": 4
 },
 "nbformat": 4,
 "nbformat_minor": 2
}
