{
 "cells": [
  {
   "cell_type": "code",
   "execution_count": 23,
   "metadata": {},
   "outputs": [],
   "source": [
    "import math\n",
    "import torch\n",
    "import pandas as pd\n",
    "import numpy as np\n",
    "from utils import toTorchTensers, NormalizeData\n",
    "from Models import ForcastModelMulti\n",
    "\n",
    "base_url = r'.'"
   ]
  },
  {
   "cell_type": "code",
   "execution_count": 24,
   "metadata": {},
   "outputs": [],
   "source": [
    "# data\n",
    "DATA = np.genfromtxt(r'./data/clusters_derm_20-04_12-53-42.csv', delimiter=',')\n",
    "np.random.seed(5)\n",
    "np.random.shuffle(DATA)\n",
    "split_point = math.floor(len(DATA) * 0.75)\n",
    "\n",
    "train_x, train_y = DATA[:split_point, :-1], DATA[:split_point, -1]\n",
    "test_x, test_y = DATA[split_point:, :-1], DATA[split_point:, -1]\n",
    "\n",
    "[train_x, train_y, test_x, test_y] = toTorchTensers(\n",
    "  train_x, train_y, test_x, test_y\n",
    ")"
   ]
  },
  {
   "cell_type": "code",
   "execution_count": 25,
   "metadata": {},
   "outputs": [
    {
     "name": "stdout",
     "output_type": "stream",
     "text": [
      "⚙ training ...\n",
      "epoche: 0, loss: 0.171059682965, execution time: 0.5s\n",
      "epoche: 1, loss: 0.183000937104, execution time: 0.4s\n",
      "epoche: 2, loss: 0.185590863228, execution time: 0.5s\n",
      "epoche: 3, loss: 0.215206727386, execution time: 0.4s\n",
      "epoche: 4, loss: 0.200322166085, execution time: 0.5s\n",
      "epoche: 5, loss: 0.173522159457, execution time: 0.4s\n",
      "epoche: 6, loss: 0.129937633872, execution time: 0.4s\n",
      "epoche: 7, loss: 0.102735705674, execution time: 0.5s\n",
      "epoche: 8, loss: 0.080099754035, execution time: 0.5s\n",
      "epoche: 9, loss: 0.087492309511, execution time: 0.5s\n",
      "epoche: 10, loss: 0.035925444216, execution time: 0.4s\n",
      "epoche: 11, loss: 0.021849734709, execution time: 0.4s\n",
      "epoche: 12, loss: 0.014351309277, execution time: 0.4s\n",
      "epoche: 13, loss: 0.006627790164, execution time: 0.4s\n",
      "epoche: 14, loss: 0.001308285980, execution time: 0.4s\n",
      "epoche: 15, loss: 0.000265310489, execution time: 0.4s\n",
      "epoche: 16, loss: 0.000148267529, execution time: 0.4s\n",
      "epoche: 17, loss: 0.000217369423, execution time: 0.4s\n",
      "epoche: 18, loss: 0.000013459106, execution time: 0.4s\n",
      "epoche: 19, loss: 0.000009286523, execution time: 0.4s\n",
      "epoche: 20, loss: 0.000013788503, execution time: 0.5s\n",
      "epoche: 21, loss: 0.000021732674, execution time: 0.5s\n",
      "epoche: 22, loss: 0.000005887210, execution time: 0.4s\n",
      "epoche: 23, loss: 0.000003061651, execution time: 0.5s\n",
      "epoche: 24, loss: 0.000026096490, execution time: 0.5s\n",
      "epoche: 25, loss: 0.000003874255, execution time: 0.4s\n",
      "epoche: 26, loss: 0.000002639930, execution time: 0.4s\n",
      "epoche: 27, loss: 0.000000443431, execution time: 0.4s\n",
      "epoche: 28, loss: 0.000000702353, execution time: 0.5s\n",
      "epoche: 29, loss: 0.000000909715, execution time: 0.4s\n",
      "epoche: 30, loss: 0.000001038559, execution time: 0.4s\n",
      "epoche: 31, loss: 0.000000100620, execution time: 0.4s\n",
      "epoche: 32, loss: 0.000003047430, execution time: 0.5s\n",
      "epoche: 33, loss: 0.000001336754, execution time: 0.5s\n",
      "epoche: 34, loss: 0.000008638703, execution time: 0.4s\n",
      "epoche: 35, loss: 0.000000040743, execution time: 0.5s\n",
      "epoche: 36, loss: 0.000000308631, execution time: 0.5s\n",
      "epoche: 37, loss: 0.000007772563, execution time: 0.8s\n",
      "epoche: 38, loss: 0.000000415967, execution time: 0.5s\n",
      "epoche: 39, loss: 0.000000992469, execution time: 0.4s\n",
      "epoche: 40, loss: 0.000000905182, execution time: 0.4s\n",
      "epoche: 41, loss: 0.000004528465, execution time: 0.4s\n",
      "epoche: 42, loss: 0.000004084900, execution time: 0.4s\n",
      "epoche: 43, loss: 0.000000338124, execution time: 0.4s\n",
      "epoche: 44, loss: 0.000018623688, execution time: 0.4s\n",
      "epoche: 45, loss: 0.000002004811, execution time: 0.4s\n",
      "epoche: 46, loss: 0.000001886320, execution time: 0.4s\n",
      "epoche: 47, loss: 0.000002447447, execution time: 0.4s\n",
      "epoche: 48, loss: 0.000000682796, execution time: 0.4s\n",
      "epoche: 49, loss: 0.000000557589, execution time: 0.4s\n",
      "✅ training ended ,final loss: 0.00000056, time: 22.6s\n"
     ]
    }
   ],
   "source": [
    "# training\n",
    "model = ForcastModelMulti(input=12, output=int(max(DATA[:, -1])))\n",
    "model.fit(train_x, train_y, epoches=50)"
   ]
  },
  {
   "cell_type": "code",
   "execution_count": 22,
   "metadata": {},
   "outputs": [
    {
     "name": "stdout",
     "output_type": "stream",
     "text": [
      "loss: 0.3281, acc: 0.8739\n"
     ]
    }
   ],
   "source": [
    "# testing\n",
    "model.test(test_x, test_y, bar=0.7)"
   ]
  },
  {
   "cell_type": "code",
   "execution_count": null,
   "metadata": {},
   "outputs": [],
   "source": [
    "DATA = np.genfromtxt(r'./data/dermatology.data', delimiter=',')\n",
    "np.random.seed(5)\n",
    "np.random.shuffle(DATA)\n",
    "split_point = math.floor(len(DATA) * 0.75)\n",
    "\n",
    "train_x, train_y = DATA[:split_point, :-1], DATA[:split_point, -1]\n",
    "test_x, test_y = DATA[split_point:, :-1], DATA[split_point:, -1]\n",
    "\n",
    "[train_x, train_y, test_x, test_y] = toTorchTensers(\n",
    "  train_x, train_y, test_x, test_y\n",
    ")\n",
    "\n",
    "# model\n",
    "loaded_model = ForcastModelMulti(input=34, output=6)\n",
    "loaded_model.load_state_dict(\n",
    "    torch.load(f'{base_url}/models/forcast_model_20-04_12-02-58.pt')\n",
    ")\n",
    "loaded_model.eval()\n",
    "\n",
    "loaded_model.test(test_x, test_y)"
   ]
  },
  {
   "cell_type": "code",
   "execution_count": null,
   "metadata": {},
   "outputs": [],
   "source": [
    "# model.save()"
   ]
  }
 ],
 "metadata": {
  "interpreter": {
   "hash": "72c063d6035d88959ce5488d2496817d169a349dc57db45346e17e4ac662e96d"
  },
  "kernelspec": {
   "display_name": "Python 3.9.7 ('venv': venv)",
   "language": "python",
   "name": "python3"
  },
  "language_info": {
   "codemirror_mode": {
    "name": "ipython",
    "version": 3
   },
   "file_extension": ".py",
   "mimetype": "text/x-python",
   "name": "python",
   "nbconvert_exporter": "python",
   "pygments_lexer": "ipython3",
   "version": "3.9.11"
  },
  "orig_nbformat": 4
 },
 "nbformat": 4,
 "nbformat_minor": 2
}
